{
 "cells": [
  {
   "cell_type": "code",
   "execution_count": 1,
   "metadata": {},
   "outputs": [
    {
     "name": "stdout",
     "output_type": "stream",
     "text": [
      "C:\\Users\\Nghia\\PycharmProjects\\ECML\\Refactor\n"
     ]
    }
   ],
   "source": [
    "cd .."
   ]
  },
  {
   "cell_type": "code",
   "execution_count": 2,
   "metadata": {},
   "outputs": [
    {
     "name": "stderr",
     "output_type": "stream",
     "text": [
      "c:\\users\\nghia\\anaconda2\\envs\\tf36\\lib\\site-packages\\h5py\\__init__.py:36: FutureWarning: Conversion of the second argument of issubdtype from `float` to `np.floating` is deprecated. In future, it will be treated as `np.float64 == np.dtype(float).type`.\n",
      "  from ._conv import register_converters as _register_converters\n",
      "Using TensorFlow backend.\n"
     ]
    },
    {
     "name": "stdout",
     "output_type": "stream",
     "text": [
      "Extracting /tmp/data/train-images-idx3-ubyte.gz\n",
      "Extracting /tmp/data/train-labels-idx1-ubyte.gz\n",
      "Extracting /tmp/data/t10k-images-idx3-ubyte.gz\n",
      "Extracting /tmp/data/t10k-labels-idx1-ubyte.gz\n"
     ]
    }
   ],
   "source": [
    "from pprint import pprint\n",
    "\n",
    "import numpy as np\n",
    "import tensorflow as tf\n",
    "import time\n",
    "from collections import Counter\n",
    "\n",
    "from sklearn.svm import OneClassSVM\n",
    "from sklearn.ensemble import IsolationForest\n",
    "\n",
    "from load_datasets import mnist\n",
    "from metrics import metrics\n",
    "from models.AE1SVM import AEOneClassSVM\n",
    "from models.DEC import DEC\n",
    "from models.RDA import RobustL21Autoencoder\n"
   ]
  },
  {
   "cell_type": "code",
   "execution_count": 3,
   "metadata": {},
   "outputs": [
    {
     "name": "stderr",
     "output_type": "stream",
     "text": [
      "c:\\users\\nghia\\anaconda2\\envs\\tf36\\lib\\site-packages\\sklearn\\utils\\validation.py:444: DataConversionWarning: Data with input dtype uint8 was converted to float64 by MinMaxScaler.\n",
      "  warnings.warn(msg, DataConversionWarning)\n"
     ]
    },
    {
     "name": "stdout",
     "output_type": "stream",
     "text": [
      "Anomalies ratio: 1.682935038707506 %\n"
     ]
    }
   ],
   "source": [
    "tf.set_random_seed(2018)\n",
    "\n",
    "x_train, y_train, x_test, y_test = mnist(random_state=3)\n",
    "\n",
    "counter = Counter(y_train)\n",
    "print('Anomalies ratio:', 100*counter[-1]/(counter[1]+counter[-1]), '%')"
   ]
  },
  {
   "cell_type": "code",
   "execution_count": 4,
   "metadata": {},
   "outputs": [
    {
     "name": "stdout",
     "output_type": "stream",
     "text": [
      "OCSVM-RBF\n",
      "[LibSVM]Train time: 3.4817512035369873\n",
      "Test time: 1.6529710292816162\n",
      "{'AUPRC': 0.081902971223974,\n",
      " 'AUROC': 0.8300890106128038,\n",
      " 'Confusion matrix': array([[  39,   11],\n",
      "       [ 350, 2571]], dtype=int64),\n",
      " 'F1': 0.17767653758542143,\n",
      " 'Precision': 0.10025706940874037,\n",
      " 'Recall': 0.78}\n"
     ]
    }
   ],
   "source": [
    "# Train conventional OCSVM\n",
    "print('OCSVM-RBF')\n",
    "libsvm = OneClassSVM(nu=0.13, verbose=True, shrinking=True)\n",
    "t0 = time.time()\n",
    "libsvm.fit(x_train)\n",
    "print('Train time:', time.time() - t0)\n",
    "\n",
    "t0 = time.time()\n",
    "out_y = libsvm.predict(x_test)\n",
    "print('Test time:', time.time() - t0)\n",
    "pprint(metrics(y_test, out_y))"
   ]
  },
  {
   "cell_type": "code",
   "execution_count": 5,
   "metadata": {},
   "outputs": [
    {
     "name": "stdout",
     "output_type": "stream",
     "text": [
      "IsolationForest\n"
     ]
    },
    {
     "name": "stderr",
     "output_type": "stream",
     "text": [
      "[Parallel(n_jobs=1)]: Done   1 out of   1 | elapsed:    5.0s finished\n"
     ]
    },
    {
     "name": "stdout",
     "output_type": "stream",
     "text": [
      "Train time: 8.271250247955322\n",
      "Test time: 3.001840829849243\n",
      "{'AUPRC': 0.0571079872021638,\n",
      " 'AUROC': 0.7693050325231086,\n",
      " 'Confusion matrix': array([[  34,   16],\n",
      "       [ 413, 2508]], dtype=int64),\n",
      " 'F1': 0.1368209255533199,\n",
      " 'Precision': 0.07606263982102908,\n",
      " 'Recall': 0.68}\n"
     ]
    }
   ],
   "source": [
    "# Train Isolation Forest\n",
    "print('IsolationForest')\n",
    "iforest = IsolationForest(contamination=0.15, verbose=1)\n",
    "t0 = time.time()\n",
    "iforest.fit(x_train)\n",
    "print('Train time:', time.time() - t0)\n",
    "\n",
    "t0 = time.time()\n",
    "out_y = iforest.predict(x_test)\n",
    "print('Test time:', time.time() - t0)\n",
    "pprint(metrics(y_test, out_y))"
   ]
  },
  {
   "cell_type": "code",
   "execution_count": 6,
   "metadata": {},
   "outputs": [],
   "source": [
    "batch_size = 32\n",
    "autoencoder_layers = [784, 256, 128]\n",
    "\n",
    "data_input = tf.placeholder(tf.float32, shape=[None, 784])"
   ]
  },
  {
   "cell_type": "code",
   "execution_count": 7,
   "metadata": {},
   "outputs": [],
   "source": [
    "import matplotlib\n",
    "import matplotlib.pyplot as plt\n",
    "\n",
    "normal = x_test[np.where(y_test == 1)]\n",
    "anomalies = x_test[np.where(y_test == -1)]"
   ]
  },
  {
   "cell_type": "code",
   "execution_count": 8,
   "metadata": {},
   "outputs": [],
   "source": [
    "ae1svm = AEOneClassSVM(data_input, batch_size, 'test_normal', autoencoder_layers[1:], 0.4, 1e3, 3.0, 1000,\n",
    "                       autoencoder_activation='sigmoid', seed=1,\n",
    "                       full_op=tf.train.AdamOptimizer(1e-3),\n",
    "                       svm_op=tf.train.AdamOptimizer(1e-4))"
   ]
  },
  {
   "cell_type": "code",
   "execution_count": 9,
   "metadata": {
    "scrolled": false
   },
   "outputs": [
    {
     "name": "stdout",
     "output_type": "stream",
     "text": [
      "Combined train\n",
      "........................................SVM train\n",
      "Train time: 76.80531001091003\n",
      "Test time: 0.18098187446594238\n",
      "{'AUPRC': 0.06461200131008277,\n",
      " 'AUROC': 0.8356829852790141,\n",
      " 'Confusion matrix': array([[  43,    7],\n",
      "       [ 551, 2370]], dtype=int64),\n",
      " 'F1': 0.13354037267080746,\n",
      " 'Precision': 0.0723905723905724,\n",
      " 'Recall': 0.86}\n"
     ]
    },
    {
     "data": {
      "image/png": "[encoded data removed]",
      "text/plain": [
       "<matplotlib.figure.Figure at 0x205b387cb70>"
      ]
     },
     "metadata": {},
     "output_type": "display_data"
    }
   ],
   "source": [
    "with tf.Session() as sess:\n",
    "    sess.run(tf.global_variables_initializer())\n",
    "\n",
    "    # Autoencoder-OneclassSVM\n",
    "    t0 = time.time()\n",
    "    ae1svm.fit(sess, x_train, epochs_1=40, epochs_2=0)\n",
    "    print('Train time:', time.time() - t0)\n",
    "\n",
    "    t0 = time.time()\n",
    "    out_y = ae1svm.predict(sess, x_test)\n",
    "    print('Test time:', time.time() - t0)\n",
    "\n",
    "    pprint(metrics(y_test, out_y))\n",
    "    \n",
    "    normal = x_test[np.where(y_test == 1)]\n",
    "    anomalies = x_test[np.where(y_test == -1)]\n",
    "    \n",
    "    gs = matplotlib.gridspec.GridSpec(4, 6)\n",
    "    gs.update(wspace=0, hspace=0)\n",
    "    i = 0\n",
    "    for n in [0, 5, 12, 14, 20, 33]:\n",
    "        a = anomalies[n]\n",
    "        g = sess.run(ae1svm.gradient, {data_input: [anomalies[n]]})\n",
    "        g = np.reshape(g, (784, len(g)))\n",
    "\n",
    "        splt = plt.subplot(gs[i])\n",
    "        splt.imshow(np.reshape(anomalies[n], (28, 28)), cmap='gray')\n",
    "        splt.set_xticks([])\n",
    "        splt.set_yticks([])\n",
    "        \n",
    "        splt = plt.subplot(gs[i+6])\n",
    "        splt.imshow(np.maximum(0, np.reshape(g, (28, 28))), cmap='Blues')\n",
    "        splt.set_xticks([])\n",
    "        splt.set_yticks([])\n",
    "\n",
    "        splt = plt.subplot(gs[i+12])\n",
    "        splt.imshow(np.maximum(0, -np.reshape(g, (28, 28))), cmap='Greens')\n",
    "        splt.set_xticks([])\n",
    "        splt.set_yticks([])\n",
    "        \n",
    "        splt = plt.subplot(gs[i+18])\n",
    "        splt.imshow(np.reshape(g, (28, 28)), cmap='hot')\n",
    "        splt.set_xticks([])\n",
    "        splt.set_yticks([])\n",
    "        \n",
    "        i += 1\n",
    "    \n"
   ]
  },
  {
   "cell_type": "code",
   "execution_count": 10,
   "metadata": {},
   "outputs": [
    {
     "name": "stdout",
     "output_type": "stream",
     "text": [
      "...Pretraining...\n",
      "Epoch 1/5\n",
      "2971/2971 [==============================] - 4s 1ms/step - loss: 0.0796\n",
      "Epoch 2/5\n",
      "2971/2971 [==============================] - 1s 449us/step - loss: 0.0493\n",
      "Epoch 3/5\n",
      "2971/2971 [==============================] - 1s 472us/step - loss: 0.0407\n",
      "Epoch 4/5\n",
      "2971/2971 [==============================] - 1s 443us/step - loss: 0.0330\n",
      "Epoch 5/5\n",
      "2971/2971 [==============================] - 1s 443us/step - loss: 0.0277\n",
      "Pretraining time:  10.96248745918274\n",
      "Update interval 10\n",
      "Save interval 464.21875\n",
      "Initializing cluster centers with k-means.\n",
      "delta_label  0.0006731740154830024 < tol  0.001\n",
      "Reached tolerance threshold. Stopping training.\n",
      "Train time: 24.53627038002014\n",
      "Test time: 0.34536266326904297\n",
      "{'AUPRC': 0.01772480382257245,\n",
      " 'AUROC': 0.5116124614857925,\n",
      " 'Confusion matrix': array([[   2,   48],\n",
      "       [  49, 2872]], dtype=int64),\n",
      " 'F1': 0.0396039603960396,\n",
      " 'Precision': 0.0392156862745098,\n",
      " 'Recall': 0.04}\n"
     ]
    }
   ],
   "source": [
    "dec = DEC(dims=autoencoder_layers, n_clusters=5)\n",
    "t0 = time.time()\n",
    "dec.pretrain(x=x_train, epochs=5)\n",
    "dec.compile(loss='kld')\n",
    "y_pred = dec.fit(x_train, update_interval=10, batch_size=batch_size)\n",
    "print('Train time:', time.time() - t0)\n",
    "\n",
    "t0 = time.time()\n",
    "scores = dec.cluster_score(x_test)\n",
    "print('Test time:', time.time() - t0)\n",
    "threshold = np.partition(scores.flatten(), int(counter[-1]))[int(counter[-1])]\n",
    "out_y = np.array([1 if s > threshold else -1 for s in scores])\n",
    "pprint(metrics(y_test, out_y))"
   ]
  },
  {
   "cell_type": "code",
   "execution_count": 11,
   "metadata": {},
   "outputs": [
    {
     "name": "stdout",
     "output_type": "stream",
     "text": [
      "X shape:  (2971, 784)\n",
      "L shape:  (2971, 784)\n",
      "S shape:  (2971, 784)\n",
      "Out iteration:  1\n",
      "    iteration :  5 , cost :  0.04158278\n",
      "    iteration :  10 , cost :  0.031193422\n",
      "    iteration :  15 , cost :  0.024824873\n",
      "    iteration :  20 , cost :  0.019386165\n",
      "    iteration :  25 , cost :  0.017231423\n",
      "    iteration :  30 , cost :  0.0155886\n",
      "Out iteration:  2\n",
      "    iteration :  5 , cost :  0.009936082\n",
      "    iteration :  10 , cost :  0.009236663\n",
      "    iteration :  15 , cost :  0.008653108\n",
      "    iteration :  20 , cost :  0.0080923345\n",
      "    iteration :  25 , cost :  0.0074714515\n",
      "    iteration :  30 , cost :  0.006851509\n",
      "Train time: 84.41821050643921\n",
      "Test time: 1.1802420616149902\n",
      "{'AUPRC': 0.04451713215059242,\n",
      " 'AUROC': 0.8083122218418348,\n",
      " 'Confusion matrix': array([[  48,    2],\n",
      "       [1003, 1918]], dtype=int64),\n",
      " 'F1': 0.08719346049046323,\n",
      " 'Precision': 0.04567078972407231,\n",
      " 'Recall': 0.96}\n"
     ]
    }
   ],
   "source": [
    "with tf.Session() as sess:\n",
    "    sess.run(tf.global_variables_initializer())\n",
    "\n",
    "    # Robust Deep Autoencoder\n",
    "    rae = RobustL21Autoencoder(sess=sess, lambda_=3, layers_sizes=autoencoder_layers, learning_rate=1e-3)\n",
    "    t0 = time.time()\n",
    "    L, S = rae.fit(x_train, sess=sess, inner_iteration=30, iteration=2, verbose=True, batch_size=batch_size)\n",
    "    print('Train time:', time.time() - t0)\n",
    "\n",
    "    t0 = time.time()\n",
    "    L_test, S_test = rae.predict(x_test, sess=sess)\n",
    "    print('Test time:', time.time() - t0)\n",
    "\n",
    "    s_sum = np.linalg.norm(S, axis=1)\n",
    "    s_sum_test = np.linalg.norm(S_test, axis=1)\n",
    "    out_y = np.array([1 if s == 0 else -1 for s in s_sum_test])\n",
    "    pprint(metrics(y_test, out_y))"
   ]
  },
  {
   "cell_type": "code",
   "execution_count": 12,
   "metadata": {},
   "outputs": [],
   "source": [
    "ae_only = AEOneClassSVM(data_input, batch_size, 'test_ae', autoencoder_layers[1:], 0.4, 1e3, 3.0, 1000,\n",
    "                       autoencoder_activation='sigmoid', ae_op=tf.train.AdamOptimizer(1e-3))"
   ]
  },
  {
   "cell_type": "code",
   "execution_count": 13,
   "metadata": {},
   "outputs": [
    {
     "name": "stdout",
     "output_type": "stream",
     "text": [
      "Autoencoder train\n",
      "........................................"
     ]
    }
   ],
   "source": [
    "with tf.Session() as sess:\n",
    "    sess.run(tf.global_variables_initializer())\n",
    "\n",
    "    # Autoencoder-OneclassSVM\n",
    "    t0 = time.time()\n",
    "    ae_only.fit_ae(sess, x_train, epochs=40)\n",
    "    \n",
    "    x_train_encoded = ae_only.encode(sess, x_train)\n",
    "    x_test_encoded = ae_only.encode(sess, x_test)\n",
    "\n",
    "    x_train_rff = ae_only.encode_rff(sess, x_train)\n",
    "    x_test_rff = ae_only.encode_rff(sess, x_test)"
   ]
  },
  {
   "cell_type": "code",
   "execution_count": 14,
   "metadata": {},
   "outputs": [
    {
     "name": "stdout",
     "output_type": "stream",
     "text": [
      "OCSVM-RBF\n",
      "[LibSVM]Train time: 2.286576747894287\n",
      "Test time: 0.836578369140625\n",
      "{'AUPRC': 0.06120718298307712,\n",
      " 'AUROC': 0.8061246148579255,\n",
      " 'Confusion matrix': array([[  39,   11],\n",
      "       [ 490, 2431]], dtype=int64),\n",
      " 'F1': 0.13471502590673573,\n",
      " 'Precision': 0.07372400756143667,\n",
      " 'Recall': 0.78}\n"
     ]
    }
   ],
   "source": [
    "# Train conventional OCSVM on encoded\n",
    "print('OCSVM-RBF')\n",
    "libsvm = OneClassSVM(nu=0.2, verbose=True, shrinking=True)\n",
    "t0 = time.time()\n",
    "libsvm.fit(x_train_encoded)\n",
    "print('Train time:', time.time() - t0)\n",
    "\n",
    "t0 = time.time()\n",
    "out_y = libsvm.predict(x_test_encoded)\n",
    "print('Test time:', time.time() - t0)\n",
    "pprint(metrics(y_test, out_y))"
   ]
  },
  {
   "cell_type": "code",
   "execution_count": 18,
   "metadata": {},
   "outputs": [
    {
     "name": "stdout",
     "output_type": "stream",
     "text": [
      "OCSVM-Linear on RFF\n",
      "[LibSVM]Train time: 16.176173210144043\n",
      "Test time: 4.090029239654541\n",
      "{'AUPRC': 0.08294614791803463,\n",
      " 'AUROC': 0.8238548442314276,\n",
      " 'Confusion matrix': array([[  38,   12],\n",
      "       [ 328, 2593]], dtype=int64),\n",
      " 'F1': 0.1826923076923077,\n",
      " 'Precision': 0.10382513661202186,\n",
      " 'Recall': 0.76}\n"
     ]
    }
   ],
   "source": [
    "print('OCSVM-Linear on RFF')\n",
    "libsvm = OneClassSVM(nu=0.14, verbose=True, shrinking=False, kernel='linear')\n",
    "t0 = time.time()\n",
    "libsvm.fit(x_train_rff)\n",
    "print('Train time:', time.time() - t0)\n",
    "\n",
    "t0 = time.time()\n",
    "out_y = libsvm.predict(x_test_rff)\n",
    "print('Test time:', time.time() - t0)\n",
    "pprint(metrics(y_test, out_y))"
   ]
  },
  {
   "cell_type": "code",
   "execution_count": null,
   "metadata": {},
   "outputs": [],
   "source": []
  },
  {
   "cell_type": "code",
   "execution_count": null,
   "metadata": {},
   "outputs": [],
   "source": []
  }
 ],
 "metadata": {
  "kernelspec": {
   "display_name": "Python 3",
   "language": "python",
   "name": "python3"
  },
  "language_info": {
   "codemirror_mode": {
    "name": "ipython",
    "version": 3
   },
   "file_extension": ".py",
   "mimetype": "text/x-python",
   "name": "python",
   "nbconvert_exporter": "python",
   "pygments_lexer": "ipython3",
   "version": "3.6.2"
  }
 },
 "nbformat": 4,
 "nbformat_minor": 2
}
