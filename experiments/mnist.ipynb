{
 "cells": [
  {
   "cell_type": "code",
   "execution_count": 1,
   "metadata": {},
   "outputs": [
    {
     "name": "stdout",
     "output_type": "stream",
     "text": [
      "C:\\Users\\Nghia\\PycharmProjects\\ECML\\Refactor\n"
     ]
    }
   ],
   "source": [
    "cd .."
   ]
  },
  {
   "cell_type": "code",
   "execution_count": 2,
   "metadata": {},
   "outputs": [
    {
     "name": "stderr",
     "output_type": "stream",
     "text": [
      "c:\\users\\nghia\\anaconda2\\envs\\tf36\\lib\\site-packages\\h5py\\__init__.py:36: FutureWarning: Conversion of the second argument of issubdtype from `float` to `np.floating` is deprecated. In future, it will be treated as `np.float64 == np.dtype(float).type`.\n",
      "  from ._conv import register_converters as _register_converters\n",
      "Using TensorFlow backend.\n"
     ]
    },
    {
     "name": "stdout",
     "output_type": "stream",
     "text": [
      "Extracting /tmp/data/train-images-idx3-ubyte.gz\n",
      "Extracting /tmp/data/train-labels-idx1-ubyte.gz\n",
      "Extracting /tmp/data/t10k-images-idx3-ubyte.gz\n",
      "Extracting /tmp/data/t10k-labels-idx1-ubyte.gz\n"
     ]
    }
   ],
   "source": [
    "from pprint import pprint\n",
    "\n",
    "import numpy as np\n",
    "import tensorflow as tf\n",
    "import time\n",
    "from collections import Counter\n",
    "\n",
    "from sklearn.svm import OneClassSVM\n",
    "from sklearn.ensemble import IsolationForest\n",
    "\n",
    "from load_datasets import mnist\n",
    "from metrics import metrics\n",
    "from models.AE1SVM import AEOneClassSVM\n",
    "from models.DEC import DEC\n",
    "from models.RDA import RobustL21Autoencoder\n"
   ]
  },
  {
   "cell_type": "code",
   "execution_count": 3,
   "metadata": {},
   "outputs": [
    {
     "name": "stderr",
     "output_type": "stream",
     "text": [
      "c:\\users\\nghia\\anaconda2\\envs\\tf36\\lib\\site-packages\\sklearn\\utils\\validation.py:444: DataConversionWarning: Data with input dtype uint8 was converted to float64 by MinMaxScaler.\n",
      "  warnings.warn(msg, DataConversionWarning)\n"
     ]
    },
    {
     "name": "stdout",
     "output_type": "stream",
     "text": [
      "Anomalies ratio: 1.682935038707506 %\n"
     ]
    }
   ],
   "source": [
    "tf.set_random_seed(2018)\n",
    "\n",
    "x_train, y_train, x_test, y_test = mnist(random_state=3)\n",
    "\n",
    "counter = Counter(y_train)\n",
    "print('Anomalies ratio:', 100*counter[-1]/(counter[1]+counter[-1]), '%')"
   ]
  },
  {
   "cell_type": "code",
   "execution_count": null,
   "metadata": {},
   "outputs": [],
   "source": []
  },
  {
   "cell_type": "code",
   "execution_count": 4,
   "metadata": {},
   "outputs": [
    {
     "name": "stdout",
     "output_type": "stream",
     "text": [
      "OCSVM-RBF\n",
      "[LibSVM]Train time: 6.561444997787476\n",
      "Test time: 2.3121464252471924\n",
      "{'AUPRC': 0.9940264965014832,\n",
      " 'AUROC': 0.8239267374186923,\n",
      " 'Confusion matrix': array([[2535,  386],\n",
      "       [  11,   39]], dtype=int64),\n",
      " 'F1': 0.9273824766782514,\n",
      " 'P@10': 0.983451536643026,\n",
      " 'Precision': 0.9956794972505891,\n",
      " 'Recall': 0.8678534748373845}\n"
     ]
    }
   ],
   "source": [
    "# Train conventional OCSVM\n",
    "print('OCSVM-RBF')\n",
    "libsvm = OneClassSVM(nu=0.14, verbose=True, shrinking=True)\n",
    "t0 = time.time()\n",
    "libsvm.fit(x_train)\n",
    "print('Train time:', time.time() - t0)\n",
    "\n",
    "t0 = time.time()\n",
    "out_y = libsvm.predict(x_test)\n",
    "print('Test time:', time.time() - t0)\n",
    "pprint(metrics(y_test, out_y))"
   ]
  },
  {
   "cell_type": "code",
   "execution_count": 5,
   "metadata": {},
   "outputs": [
    {
     "name": "stdout",
     "output_type": "stream",
     "text": [
      "[-1]\n",
      "[1]\n",
      "[-1]\n",
      "[1]\n",
      "[1]\n",
      "[-1]\n",
      "[1]\n",
      "[-1]\n",
      "[-1]\n",
      "[-1]\n",
      "[1]\n",
      "[-1]\n",
      "[-1]\n",
      "[-1]\n",
      "[-1]\n",
      "[-1]\n",
      "[-1]\n",
      "[-1]\n",
      "[-1]\n",
      "[1]\n"
     ]
    },
    {
     "name": "stderr",
     "output_type": "stream",
     "text": [
      "c:\\users\\nghia\\anaconda2\\envs\\tf36\\lib\\site-packages\\matplotlib\\pyplot.py:524: RuntimeWarning: More than 20 figures have been opened. Figures created through the pyplot interface (`matplotlib.pyplot.figure`) are retained until explicitly closed and may consume too much memory. (To control this warning, see the rcParam `figure.max_open_warning`).\n",
      "  max_open_warning, RuntimeWarning)\n"
     ]
    },
    {
     "name": "stdout",
     "output_type": "stream",
     "text": [
      "[-1]\n",
      "[-1]\n",
      "[-1]\n",
      "[-1]\n",
      "[-1]\n",
      "[-1]\n",
      "[-1]\n",
      "[-1]\n",
      "[-1]\n",
      "[-1]\n",
      "[-1]\n",
      "[-1]\n",
      "[-1]\n",
      "[-1]\n",
      "[-1]\n",
      "[-1]\n",
      "[-1]\n",
      "[-1]\n",
      "[-1]\n",
      "[-1]\n",
      "[-1]\n",
      "[1]\n",
      "[-1]\n",
      "[1]\n",
      "[-1]\n",
      "[1]\n",
      "[1]\n",
      "[-1]\n",
      "[1]\n",
      "[-1]\n"
     ]
    }
   ],
   "source": [
    "import matplotlib.pyplot as plt\n",
    "\n",
    "anomalies = x_test[np.where(y_test == -1)]\n",
    "\n",
    "for x in anomalies:\n",
    "    plt.figure()\n",
    "    plt.imshow(np.reshape(x, (28, 28)))\n",
    "    print(libsvm.predict([x]))\n",
    "    \n",
    "    "
   ]
  },
  {
   "cell_type": "code",
   "execution_count": 6,
   "metadata": {},
   "outputs": [
    {
     "name": "stdout",
     "output_type": "stream",
     "text": [
      "OCSVM-Linear\n",
      "[LibSVM]Train time: 6.6436638832092285\n",
      "Test time: 2.760338068008423\n",
      "{'AUPRC': 0.9845041919002815,\n",
      " 'AUROC': 0.5402327969873332,\n",
      " 'Confusion matrix': array([[2455,  466],\n",
      "       [  38,   12]], dtype=int64),\n",
      " 'F1': 0.906908016254156,\n",
      " 'P@10': 0.9831138129010469,\n",
      " 'Precision': 0.9847573204973927,\n",
      " 'Recall': 0.8404655939746662}\n"
     ]
    }
   ],
   "source": [
    "# Train conventional OCSVM\n",
    "print('OCSVM-Linear')\n",
    "libsvm = OneClassSVM(nu=0.14, verbose=True, shrinking=True, kernel='linear')\n",
    "t0 = time.time()\n",
    "libsvm.fit(x_train)\n",
    "print('Train time:', time.time() - t0)\n",
    "\n",
    "t0 = time.time()\n",
    "out_y = libsvm.predict(x_test)\n",
    "print('Test time:', time.time() - t0)\n",
    "pprint(metrics(y_test, out_y))"
   ]
  },
  {
   "cell_type": "code",
   "execution_count": 7,
   "metadata": {},
   "outputs": [
    {
     "name": "stdout",
     "output_type": "stream",
     "text": [
      "IsolationForest\n"
     ]
    },
    {
     "name": "stderr",
     "output_type": "stream",
     "text": [
      "[Parallel(n_jobs=1)]: Done   1 out of   1 | elapsed:    5.9s finished\n"
     ]
    },
    {
     "name": "stdout",
     "output_type": "stream",
     "text": [
      "Train time: 11.897631406784058\n",
      "Test time: 6.182436943054199\n",
      "{'AUPRC': 0.9914389532604087,\n",
      " 'AUROC': 0.7474221157137967,\n",
      " 'Confusion matrix': array([[2497,  424],\n",
      "       [  18,   32]], dtype=int64),\n",
      " 'F1': 0.9186902133922001,\n",
      " 'P@10': 0.983451536643026,\n",
      " 'Precision': 0.9928429423459244,\n",
      " 'Recall': 0.8548442314275932}\n"
     ]
    }
   ],
   "source": [
    "# Train Isolation Forest\n",
    "print('IsolationForest')\n",
    "iforest = IsolationForest(contamination=0.15, verbose=1)\n",
    "t0 = time.time()\n",
    "iforest.fit(x_train)\n",
    "print('Train time:', time.time() - t0)\n",
    "\n",
    "t0 = time.time()\n",
    "out_y = iforest.predict(x_test)\n",
    "print('Test time:', time.time() - t0)\n",
    "pprint(metrics(y_test, out_y))"
   ]
  },
  {
   "cell_type": "code",
   "execution_count": 8,
   "metadata": {},
   "outputs": [],
   "source": [
    "batch_size = 16\n",
    "autoencoder_layers = [784, 256, 64]\n",
    "\n",
    "data_input = tf.placeholder(tf.float32, shape=[None, 784])"
   ]
  },
  {
   "cell_type": "code",
   "execution_count": 9,
   "metadata": {},
   "outputs": [
    {
     "name": "stdout",
     "output_type": "stream",
     "text": [
      "...Pretraining...\n",
      "Epoch 1/5\n",
      "2971/2971 [==============================] - 2s 673us/step - loss: 0.0831\n",
      "Epoch 2/5\n",
      "2971/2971 [==============================] - 1s 208us/step - loss: 0.0502\n",
      "Epoch 3/5\n",
      "2971/2971 [==============================] - 1s 200us/step - loss: 0.0423\n",
      "Epoch 4/5\n",
      "2971/2971 [==============================] - 1s 207us/step - loss: 0.0352\n",
      "Epoch 5/5\n",
      "2971/2971 [==============================] - 1s 216us/step - loss: 0.0295\n",
      "Pretraining time:  5.97187876701355\n",
      "Update interval 10\n",
      "Save interval 928.4375\n",
      "Initializing cluster centers with k-means.\n",
      "delta_label  0.0006731740154830024 < tol  0.001\n",
      "Reached tolerance threshold. Stopping training.\n",
      "Train time: 214.77528548240662\n",
      "Test time: 0.3669748306274414\n",
      "{'AUPRC': 0.9865547178653796,\n",
      " 'AUROC': 0.6017904827114002,\n",
      " 'Confusion matrix': array([[2172,  749],\n",
      "       [  27,   23]], dtype=int64),\n",
      " 'F1': 0.8484375,\n",
      " 'P@10': 0.9831138129010469,\n",
      " 'Precision': 0.9877216916780355,\n",
      " 'Recall': 0.7435809654228004}\n"
     ]
    }
   ],
   "source": [
    "dec = DEC(dims=autoencoder_layers, n_clusters=5)\n",
    "t0 = time.time()\n",
    "dec.pretrain(x=x_train, epochs=5)\n",
    "dec.compile(loss='kld')\n",
    "y_pred = dec.fit(x_train, update_interval=10, batch_size=batch_size)\n",
    "print('Train time:', time.time() - t0)\n",
    "\n",
    "t0 = time.time()\n",
    "scores = dec.cluster_score(x_test)\n",
    "print('Test time:', time.time() - t0)\n",
    "threshold = np.partition(scores.flatten(), int(counter[-1]))[int(counter[-1])]\n",
    "out_y = [1 if s > 2*threshold else -1 for s in scores]\n",
    "pprint(metrics(y_test, out_y))"
   ]
  },
  {
   "cell_type": "code",
   "execution_count": 10,
   "metadata": {},
   "outputs": [
    {
     "name": "stdout",
     "output_type": "stream",
     "text": [
      "X shape:  (2971, 784)\n",
      "L shape:  (2971, 784)\n",
      "S shape:  (2971, 784)\n",
      "Out iteration:  1\n",
      "    iteration :  5 , cost :  0.03251317\n",
      "    iteration :  10 , cost :  0.020535655\n",
      "    iteration :  15 , cost :  0.015829932\n",
      "    iteration :  20 , cost :  0.014072955\n",
      "Out iteration:  2\n",
      "    iteration :  5 , cost :  0.012962403\n",
      "    iteration :  10 , cost :  0.012115979\n",
      "    iteration :  15 , cost :  0.011359278\n",
      "    iteration :  20 , cost :  0.010501235\n",
      "Out iteration:  3\n",
      "    iteration :  5 , cost :  0.009622929\n",
      "    iteration :  10 , cost :  0.008739465\n",
      "    iteration :  15 , cost :  0.007859766\n",
      "    iteration :  20 , cost :  0.007146163\n",
      "Out iteration:  4\n",
      "    iteration :  5 , cost :  0.0066485642\n",
      "    iteration :  10 , cost :  0.006248813\n",
      "    iteration :  15 , cost :  0.0058979774\n",
      "    iteration :  20 , cost :  0.0055942684\n",
      "Out iteration:  5\n",
      "    iteration :  5 , cost :  0.0053441143\n",
      "    iteration :  10 , cost :  0.0050495365\n",
      "    iteration :  15 , cost :  0.0048581357\n",
      "    iteration :  20 , cost :  0.004667224\n",
      "Train time: 206.96025395393372\n",
      "Test time: 0.6567444801330566\n",
      "{'AUPRC': 0.9938219019868841,\n",
      " 'AUROC': 0.8182608695652174,\n",
      " 'Confusion matrix': array([[2794,  127],\n",
      "       [  16,   34]], dtype=int64),\n",
      " 'F1': 0.9750479846449137,\n",
      " 'P@10': 0.983789260385005,\n",
      " 'Precision': 0.994306049822064,\n",
      " 'Recall': 0.9565217391304348}\n"
     ]
    }
   ],
   "source": [
    "with tf.Session() as sess:\n",
    "    sess.run(tf.global_variables_initializer())\n",
    "\n",
    "    # Robust Deep Autoencoder\n",
    "    rae = RobustL21Autoencoder(sess=sess, lambda_=4, layers_sizes=autoencoder_layers, learning_rate=1e-3)\n",
    "    t0 = time.time()\n",
    "    L, S = rae.fit(x_train, sess=sess, inner_iteration=20, iteration=5, verbose=True, batch_size=batch_size)\n",
    "    print('Train time:', time.time() - t0)\n",
    "\n",
    "    t0 = time.time()\n",
    "    L_test, S_test = rae.predict(x_test, sess=sess)\n",
    "    print('Test time:', time.time() - t0)\n",
    "\n",
    "    s_sum = np.linalg.norm(S, axis=1)\n",
    "    s_sum_test = np.linalg.norm(S_test, axis=1)\n",
    "    out_y = [1 if s == 0 else -1 for s in s_sum_test]\n",
    "    pprint(metrics(y_test, out_y))"
   ]
  },
  {
   "cell_type": "code",
   "execution_count": 11,
   "metadata": {},
   "outputs": [],
   "source": [
    "import matplotlib\n",
    "import matplotlib.pyplot as plt\n",
    "\n",
    "normal = x_test[np.where(y_test == 1)]\n",
    "anomalies = x_test[np.where(y_test == -1)]"
   ]
  },
  {
   "cell_type": "code",
   "execution_count": 12,
   "metadata": {},
   "outputs": [],
   "source": [
    "ae1svm = AEOneClassSVM(data_input, batch_size, 'test_normal', autoencoder_layers[1:], 0.4, 1e3, 3.0, 500,\n",
    "                       autoencoder_activation='sigmoid',\n",
    "                       full_op=tf.train.AdamOptimizer(1e-3),\n",
    "                       svm_op=tf.train.AdamOptimizer(1e-4))"
   ]
  },
  {
   "cell_type": "code",
   "execution_count": null,
   "metadata": {},
   "outputs": [
    {
     "name": "stdout",
     "output_type": "stream",
     "text": [
      "Combined train\n",
      "Epoch: 1 Loss: 0.1037149804884719 ( 2.0453670648002175e-05 x 1000.0 + 0.08326130561738734 ) AUROC: 0.5820267031838412\n",
      "Epoch: 2 Loss: 0.07212217389353595 ( 1.4038584080660475e-05 x 1000.0 + 0.05808358977275118 ) AUROC: 0.49452242382745637\n",
      "Epoch: 3 Loss: 0.051848353460075 ( 1.1537746924095705e-05 x 1000.0 + 0.04031060577361763 ) AUROC: 0.4875042793563848\n",
      "Epoch: 4 Loss: 0.037015241470773466 ( 9.265131132444601e-06 x 1000.0 + 0.027750110915115648 ) AUROC: 0.4924409448818898\n",
      "Epoch: 5 Loss: 0.026980677103603058 ( 8.072480258416824e-06 x 1000.0 + 0.01890819604771581 ) AUROC: 0.47762067785005136\n",
      "Epoch: 6 Loss: 0.020042601758404156 ( 7.320624891855387e-06 x 1000.0 + 0.012721976861533233 ) AUROC: 0.48204382060938034\n",
      "Epoch: 7 Loss: 0.015184345328819867 ( 6.756544343873893e-06 x 1000.0 + 0.008427801295909285 ) AUROC: 0.5041698048613489\n",
      "Epoch: 8 Loss: 0.01104431897050722 ( 5.5675642161768965e-06 x 1000.0 + 0.005476754829563384 ) AUROC: 0.4990345771995892\n",
      "Epoch: 9 Loss: 0.00869090819511298 ( 5.215470992888878e-06 x 1000.0 + 0.0034754373376436084 ) AUROC: 0.526025333789798\n"
     ]
    }
   ],
   "source": [
    "with tf.Session() as sess:\n",
    "    sess.run(tf.global_variables_initializer())\n",
    "\n",
    "    # Autoencoder-OneclassSVM\n",
    "    t0 = time.time()\n",
    "    ae1svm.fit(sess, x_train, x_train, y_train, epochs_1=100, epochs_2=10)\n",
    "    print('Train time:', time.time() - t0)\n",
    "\n",
    "    t0 = time.time()\n",
    "    out_y = ae1svm.predict(sess, x_test)\n",
    "    print('Test time:', time.time() - t0)\n",
    "\n",
    "    pprint(metrics(y_test, out_y))\n",
    "    \n",
    "    margin_a = ae1svm.decision_function(sess, anomalies).T\n",
    "    rank_margin_a = np.argsort(margin_a)[0]\n",
    "    for a in anomalies:\n",
    "        plt.figure()\n",
    "        gs = matplotlib.gridspec.GridSpec(1, 4)\n",
    "        factor_0 = sess.run(ae1svm.gradient, feed_dict={data_input: [a]})[0]\n",
    "        factor_0 = np.reshape(factor_0, (28, 28))\n",
    "        plt.subplot(gs[0]).imshow(np.reshape(a, (28, 28)))\n",
    "        plt.subplot(gs[1]).imshow(np.maximum(0, factor_0), cmap='Reds')\n",
    "        plt.subplot(gs[2]).imshow(np.maximum(0, -factor_0), cmap='Reds')\n",
    "        plt.subplot(gs[3]).imshow(factor_0, cmap='Reds')\n"
   ]
  },
  {
   "cell_type": "code",
   "execution_count": null,
   "metadata": {},
   "outputs": [],
   "source": [
    "ae_only = AEOneClassSVM(data_input, batch_size, 'test_ae', autoencoder_layers[1:], 0.4, 1e3, 3.0, 500,\n",
    "                       autoencoder_activation='sigmoid', ae_op=tf.train.AdamOptimizer(1e-3))"
   ]
  },
  {
   "cell_type": "code",
   "execution_count": null,
   "metadata": {},
   "outputs": [],
   "source": [
    "with tf.Session() as sess:\n",
    "    sess.run(tf.global_variables_initializer())\n",
    "\n",
    "    # Autoencoder-OneclassSVM\n",
    "    t0 = time.time()\n",
    "    ae_only.fit_ae(sess, x_train, epochs=100)\n",
    "    \n",
    "    x_train_encoded = ae_only.encode(sess, x_train)\n",
    "    x_test_encoded = ae_only.encode(sess, x_test)\n",
    "\n",
    "    x_train_rff = ae_only.encode_rff(sess, x_train)\n",
    "    x_test_rff = ae_only.encode_rff(sess, x_test)"
   ]
  },
  {
   "cell_type": "code",
   "execution_count": null,
   "metadata": {},
   "outputs": [],
   "source": [
    "# Train conventional OCSVM\n",
    "print('OCSVM-RBF')\n",
    "libsvm = OneClassSVM(nu=0.14, verbose=True, shrinking=True)\n",
    "t0 = time.time()\n",
    "libsvm.fit(x_train_encoded)\n",
    "print('Train time:', time.time() - t0)\n",
    "\n",
    "t0 = time.time()\n",
    "out_y = libsvm.predict(x_test_encoded)\n",
    "print('Test time:', time.time() - t0)\n",
    "pprint(metrics(y_test, out_y))\n",
    "\n",
    "print('OCSVM-Linear')\n",
    "libsvm = OneClassSVM(nu=0.14, verbose=True, shrinking=True, kernel='linear')\n",
    "t0 = time.time()\n",
    "libsvm.fit(x_train_encoded)\n",
    "print('Train time:', time.time() - t0)\n",
    "\n",
    "t0 = time.time()\n",
    "out_y = libsvm.predict(x_test_encoded)\n",
    "print('Test time:', time.time() - t0)\n",
    "pprint(metrics(y_test, out_y))"
   ]
  },
  {
   "cell_type": "code",
   "execution_count": null,
   "metadata": {},
   "outputs": [],
   "source": [
    "print('OCSVM-Linear on RFF')\n",
    "libsvm = OneClassSVM(nu=0.14, verbose=True, shrinking=False, kernel='linear')\n",
    "t0 = time.time()\n",
    "libsvm.fit(x_train_rff)\n",
    "print('Train time:', time.time() - t0)\n",
    "\n",
    "t0 = time.time()\n",
    "out_y = libsvm.predict(x_test_rff)\n",
    "print('Test time:', time.time() - t0)\n",
    "pprint(metrics(y_test, out_y))"
   ]
  },
  {
   "cell_type": "code",
   "execution_count": null,
   "metadata": {},
   "outputs": [],
   "source": []
  }
 ],
 "metadata": {
  "kernelspec": {
   "display_name": "Python 3",
   "language": "python",
   "name": "python3"
  },
  "language_info": {
   "codemirror_mode": {
    "name": "ipython",
    "version": 3
   },
   "file_extension": ".py",
   "mimetype": "text/x-python",
   "name": "python",
   "nbconvert_exporter": "python",
   "pygments_lexer": "ipython3",
   "version": "3.6.2"
  }
 },
 "nbformat": 4,
 "nbformat_minor": 2
}
