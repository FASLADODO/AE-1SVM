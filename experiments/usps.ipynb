{
 "cells": [
  {
   "cell_type": "code",
   "execution_count": 1,
   "metadata": {},
   "outputs": [
    {
     "name": "stdout",
     "output_type": "stream",
     "text": [
      "C:\\Users\\Nghia\\PycharmProjects\\ECML\\Refactor\n"
     ]
    }
   ],
   "source": [
    "cd .."
   ]
  },
  {
   "cell_type": "code",
   "execution_count": 2,
   "metadata": {},
   "outputs": [
    {
     "name": "stderr",
     "output_type": "stream",
     "text": [
      "c:\\users\\nghia\\anaconda2\\envs\\tf36\\lib\\site-packages\\h5py\\__init__.py:36: FutureWarning: Conversion of the second argument of issubdtype from `float` to `np.floating` is deprecated. In future, it will be treated as `np.float64 == np.dtype(float).type`.\n",
      "  from ._conv import register_converters as _register_converters\n",
      "Using TensorFlow backend.\n"
     ]
    },
    {
     "name": "stdout",
     "output_type": "stream",
     "text": [
      "Extracting /tmp/data/train-images-idx3-ubyte.gz\n",
      "Extracting /tmp/data/train-labels-idx1-ubyte.gz\n",
      "Extracting /tmp/data/t10k-images-idx3-ubyte.gz\n",
      "Extracting /tmp/data/t10k-labels-idx1-ubyte.gz\n"
     ]
    }
   ],
   "source": [
    "from pprint import pprint\n",
    "\n",
    "import numpy as np\n",
    "import tensorflow as tf\n",
    "import time\n",
    "from collections import Counter\n",
    "\n",
    "from sklearn.svm import OneClassSVM\n",
    "from sklearn.ensemble import IsolationForest\n",
    "from sklearn.neighbors import LocalOutlierFactor\n",
    "\n",
    "from load_datasets import usps\n",
    "from metrics import metrics\n",
    "from models.AE1SVM import AEOneClassSVM\n",
    "from models.DEC import DEC\n",
    "from models.RDA import RobustL21Autoencoder"
   ]
  },
  {
   "cell_type": "code",
   "execution_count": 3,
   "metadata": {},
   "outputs": [
    {
     "name": "stdout",
     "output_type": "stream",
     "text": [
      "Anomalies ratio: 5.0 %\n"
     ]
    }
   ],
   "source": [
    "tf.set_random_seed(2018)\n",
    "\n",
    "x_train, y_train, x_test, y_test = usps(random_state=3)\n",
    "\n",
    "counter = Counter(y_train)\n",
    "print('Anomalies ratio:', 100*counter[-1]/(counter[1]+counter[-1]), '%')"
   ]
  },
  {
   "cell_type": "code",
   "execution_count": 4,
   "metadata": {},
   "outputs": [],
   "source": [
    "autoencoder_layers = [256, 128, 64, 32]\n",
    "batch_size = 16\n",
    "\n",
    "data_input = tf.placeholder(tf.float32, shape=[None, 256])"
   ]
  },
  {
   "cell_type": "code",
   "execution_count": 5,
   "metadata": {},
   "outputs": [
    {
     "name": "stdout",
     "output_type": "stream",
     "text": [
      "OCSVM-RBF\n",
      "[LibSVM]Train time: 0.07118916511535645\n",
      "Test time: 0.017548322677612305\n",
      "{'AUPRC': 0.5102040816326531,\n",
      " 'AUROC': 0.9747368421052632,\n",
      " 'Confusion matrix': array([[ 25,   0],\n",
      "       [ 24, 451]], dtype=int64),\n",
      " 'F1': 0.6756756756756758,\n",
      " 'Precision': 0.5102040816326531,\n",
      " 'Recall': 1.0}\n"
     ]
    }
   ],
   "source": [
    "# Train conventional OCSVM\n",
    "print('OCSVM-RBF')\n",
    "libsvm = OneClassSVM(nu=0.11, verbose=True, shrinking=True, gamma=0.04)\n",
    "t0 = time.time()\n",
    "libsvm.fit(x_train)\n",
    "print('Train time:', time.time() - t0)\n",
    "\n",
    "t0 = time.time()\n",
    "out_y = libsvm.predict(x_test)\n",
    "print('Test time:', time.time() - t0)\n",
    "pprint(metrics(y_test, out_y))"
   ]
  },
  {
   "cell_type": "code",
   "execution_count": 6,
   "metadata": {},
   "outputs": [
    {
     "name": "stdout",
     "output_type": "stream",
     "text": [
      "IsolationForest\n"
     ]
    },
    {
     "name": "stderr",
     "output_type": "stream",
     "text": [
      "[Parallel(n_jobs=1)]: Done   1 out of   1 | elapsed:    0.3s finished\n"
     ]
    },
    {
     "name": "stdout",
     "output_type": "stream",
     "text": [
      "Train time: 0.46273279190063477\n",
      "Test time: 0.11179733276367188\n",
      "{'AUPRC': 0.6097560975609756,\n",
      " 'AUROC': 0.9831578947368421,\n",
      " 'Confusion matrix': array([[ 25,   0],\n",
      "       [ 16, 459]], dtype=int64),\n",
      " 'F1': 0.7575757575757575,\n",
      " 'Precision': 0.6097560975609756,\n",
      " 'Recall': 1.0}\n"
     ]
    }
   ],
   "source": [
    "# Train Isolation Forest\n",
    "print('IsolationForest')\n",
    "iforest = IsolationForest(contamination=0.08, verbose=1)\n",
    "t0 = time.time()\n",
    "iforest.fit(x_train)\n",
    "print('Train time:', time.time() - t0)\n",
    "\n",
    "t0 = time.time()\n",
    "out_y = iforest.predict(x_test)\n",
    "print('Test time:', time.time() - t0)\n",
    "pprint(metrics(y_test, out_y))"
   ]
  },
  {
   "cell_type": "code",
   "execution_count": 7,
   "metadata": {},
   "outputs": [
    {
     "name": "stdout",
     "output_type": "stream",
     "text": [
      "X shape:  (500, 256)\n",
      "L shape:  (500, 256)\n",
      "S shape:  (500, 256)\n",
      "Out iteration:  1\n",
      "    iteration :  5 , cost :  0.0074171685\n",
      "Out iteration:  2\n",
      "    iteration :  5 , cost :  0.005052941\n",
      "Out iteration:  3\n",
      "    iteration :  5 , cost :  0.005326478\n",
      "Out iteration:  4\n",
      "    iteration :  5 , cost :  0.0056101335\n",
      "Out iteration:  5\n",
      "    iteration :  5 , cost :  0.005672169\n",
      "Train time: 2.7923684120178223\n",
      "Test time: 0.01905059814453125\n",
      "{'AUPRC': 0.5681818181818182,\n",
      " 'AUROC': 0.98,\n",
      " 'Confusion matrix': array([[ 25,   0],\n",
      "       [ 19, 456]], dtype=int64),\n",
      " 'F1': 0.7246376811594203,\n",
      " 'Precision': 0.5681818181818182,\n",
      " 'Recall': 1.0}\n"
     ]
    }
   ],
   "source": [
    "with tf.Session() as sess:\n",
    "    sess.run(tf.global_variables_initializer())\n",
    "    \n",
    "    # Robust Deep Autoencoder\n",
    "    rae = RobustL21Autoencoder(sess=sess, lambda_=1.7, layers_sizes=autoencoder_layers, learning_rate=1e-2)\n",
    "    t0 = time.time()\n",
    "    L, S = rae.fit(x_train, sess=sess, inner_iteration=5, iteration=5, verbose=True, batch_size=batch_size)\n",
    "    print('Train time:', time.time() - t0)\n",
    "\n",
    "    t0 = time.time()\n",
    "    L_test, S_test = rae.predict(x_test, sess=sess)\n",
    "    print('Test time:', time.time() - t0)\n",
    "\n",
    "    s_sum = np.linalg.norm(S, axis=1)\n",
    "    s_sum_test = np.linalg.norm(S_test, axis=1)\n",
    "    out_y = np.array([1 if s == 0 else -1 for s in s_sum_test])\n",
    "    pprint(metrics(y_test, out_y))\n"
   ]
  },
  {
   "cell_type": "code",
   "execution_count": 8,
   "metadata": {
    "scrolled": false
   },
   "outputs": [
    {
     "name": "stdout",
     "output_type": "stream",
     "text": [
      "...Pretraining...\n",
      "Epoch 1/1\n",
      "500/500 [==============================] - 1s 3ms/step - loss: 0.0999\n",
      "Pretraining time:  2.2835824489593506\n",
      "Update interval 10\n",
      "Save interval 156.25\n",
      "Initializing cluster centers with k-means.\n",
      "delta_label  0.0 < tol  0.001\n",
      "Reached tolerance threshold. Stopping training.\n",
      "Train time: 3.767235517501831\n",
      "Test time: 0.027072429656982422\n",
      "{'AUPRC': 0.7506153846153846,\n",
      " 'AUROC': 0.9357894736842105,\n",
      " 'Confusion matrix': array([[ 22,   3],\n",
      "       [  4, 471]], dtype=int64),\n",
      " 'F1': 0.8627450980392156,\n",
      " 'Precision': 0.8461538461538461,\n",
      " 'Recall': 0.88}\n"
     ]
    }
   ],
   "source": [
    "dec = DEC(dims=autoencoder_layers, n_clusters=5)\n",
    "t0 = time.time()\n",
    "dec.pretrain(x=x_train, epochs=1)\n",
    "dec.compile(loss='kld')\n",
    "y_pred = dec.fit(x_train, update_interval=10, batch_size=batch_size)\n",
    "print('Train time:', time.time() - t0)\n",
    "\n",
    "t0 = time.time()\n",
    "scores = dec.cluster_score(x_test)\n",
    "print('Test time:', time.time() - t0)\n",
    "threshold = np.partition(scores.flatten(), int(counter[-1]))[int(counter[-1])]\n",
    "out_y = np.array([1 if s > threshold else -1 for s in scores])\n",
    "pprint(metrics(y_test, out_y))"
   ]
  },
  {
   "cell_type": "code",
   "execution_count": 9,
   "metadata": {},
   "outputs": [],
   "source": [
    "ae1svm = AEOneClassSVM(data_input, batch_size, 'test', autoencoder_layers[1:], 0.28, 1e3, 3.0, 500,\n",
    "                       autoencoder_activation='sigmoid', seed=10,\n",
    "                       full_op=tf.train.AdamOptimizer(5e-3),\n",
    "                       svm_op=tf.train.AdamOptimizer(1e-4))"
   ]
  },
  {
   "cell_type": "code",
   "execution_count": 10,
   "metadata": {
    "scrolled": false
   },
   "outputs": [
    {
     "name": "stdout",
     "output_type": "stream",
     "text": [
      "Combined train\n",
      "........................................................................................................................SVM train\n",
      "Train time: 17.582940101623535\n",
      "Test time: 0.04261422157287598\n",
      "{'AUPRC': 0.8064516129032258,\n",
      " 'AUROC': 0.9936842105263157,\n",
      " 'Confusion matrix': array([[ 25,   0],\n",
      "       [  6, 469]], dtype=int64),\n",
      " 'F1': 0.8928571428571428,\n",
      " 'Precision': 0.8064516129032258,\n",
      " 'Recall': 1.0}\n"
     ]
    }
   ],
   "source": [
    "with tf.Session() as sess:\n",
    "    sess.run(tf.global_variables_initializer())\n",
    "    \n",
    "    # Autoencoder-OneclassSVM\n",
    "    t0 = time.time()\n",
    "    ae1svm.fit(sess, x_train, epochs_1=120, epochs_2=0)\n",
    "    print('Train time:', time.time() - t0)\n",
    "\n",
    "    t0 = time.time()\n",
    "    out_y = ae1svm.predict(sess, x_test)\n",
    "    print('Test time:', time.time() - t0)\n",
    "    pprint(metrics(y_test, out_y))"
   ]
  },
  {
   "cell_type": "code",
   "execution_count": 11,
   "metadata": {},
   "outputs": [
    {
     "name": "stdout",
     "output_type": "stream",
     "text": [
      "Autoencoder train\n",
      "....................................................................................................AE time: 11.076406955718994\n"
     ]
    }
   ],
   "source": [
    "ae_only = AEOneClassSVM(data_input, batch_size, 'test_ae', autoencoder_layers[1:], 0.28, 1e3, 3.0, 500,\n",
    "                       autoencoder_activation='sigmoid',\n",
    "                       ae_op=tf.train.AdamOptimizer(5e-3))\n",
    "with tf.Session() as sess:\n",
    "    sess.run(tf.global_variables_initializer())\n",
    "    # Train autoencoder for conventional methods\n",
    "    t0 = time.time()\n",
    "    ae_only.fit_ae(sess, x_train, epochs=100)\n",
    "    print('AE time:', time.time() - t0)\n",
    "\n",
    "    x_train_encoded = ae_only.encode(sess, x_train)\n",
    "    x_test_encoded = ae_only.encode(sess, x_test)\n",
    "\n",
    "    x_train_rff = ae_only.encode_rff(sess, x_train)\n",
    "    x_test_rff = ae_only.encode_rff(sess, x_test)"
   ]
  },
  {
   "cell_type": "code",
   "execution_count": 12,
   "metadata": {},
   "outputs": [
    {
     "name": "stdout",
     "output_type": "stream",
     "text": [
      "OCSVM-RBF\n",
      "[LibSVM]Train time: 0.04612278938293457\n",
      "Test time: 0.0025072097778320312\n",
      "{'AUPRC': 0.4716981132075472,\n",
      " 'AUROC': 0.9705263157894737,\n",
      " 'Confusion matrix': array([[ 25,   0],\n",
      "       [ 28, 447]], dtype=int64),\n",
      " 'F1': 0.641025641025641,\n",
      " 'Precision': 0.4716981132075472,\n",
      " 'Recall': 1.0}\n"
     ]
    }
   ],
   "source": [
    "# Train conventional OCSVM on \n",
    "print('OCSVM-RBF')\n",
    "libsvm = OneClassSVM(nu=0.12, verbose=True, shrinking=False)\n",
    "t0 = time.time()\n",
    "libsvm.fit(x_train_encoded)\n",
    "print('Train time:', time.time() - t0)\n",
    "\n",
    "t0 = time.time()\n",
    "out_y = libsvm.predict(x_test_encoded)\n",
    "print('Test time:', time.time() - t0)\n",
    "pprint(metrics(y_test, out_y))"
   ]
  },
  {
   "cell_type": "code",
   "execution_count": 13,
   "metadata": {},
   "outputs": [
    {
     "name": "stdout",
     "output_type": "stream",
     "text": [
      "OCSVM-Linear on RFF\n",
      "[LibSVM]Train time: 0.11680960655212402\n",
      "Test time: 0.10628986358642578\n",
      "{'AUPRC': 0.49019607843137253,\n",
      " 'AUROC': 0.9726315789473684,\n",
      " 'Confusion matrix': array([[ 25,   0],\n",
      "       [ 26, 449]], dtype=int64),\n",
      " 'F1': 0.6578947368421052,\n",
      " 'Precision': 0.49019607843137253,\n",
      " 'Recall': 1.0}\n"
     ]
    }
   ],
   "source": [
    "print('OCSVM-Linear on RFF')\n",
    "libsvm = OneClassSVM(nu=0.11, verbose=True, shrinking=True, kernel='linear')\n",
    "t0 = time.time()\n",
    "libsvm.fit(x_train_rff)\n",
    "print('Train time:', time.time() - t0)\n",
    "\n",
    "t0 = time.time()\n",
    "out_y = libsvm.predict(x_test_rff)\n",
    "print('Test time:', time.time() - t0)\n",
    "pprint(metrics(y_test, out_y))"
   ]
  },
  {
   "cell_type": "code",
   "execution_count": null,
   "metadata": {},
   "outputs": [],
   "source": []
  },
  {
   "cell_type": "code",
   "execution_count": null,
   "metadata": {},
   "outputs": [],
   "source": []
  }
 ],
 "metadata": {
  "kernelspec": {
   "display_name": "Python 3",
   "language": "python",
   "name": "python3"
  },
  "language_info": {
   "codemirror_mode": {
    "name": "ipython",
    "version": 3
   },
   "file_extension": ".py",
   "mimetype": "text/x-python",
   "name": "python",
   "nbconvert_exporter": "python",
   "pygments_lexer": "ipython3",
   "version": "3.6.2"
  }
 },
 "nbformat": 4,
 "nbformat_minor": 2
}
