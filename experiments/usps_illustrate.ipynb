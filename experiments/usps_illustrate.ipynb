{
 "cells": [
  {
   "cell_type": "code",
   "execution_count": 1,
   "metadata": {},
   "outputs": [
    {
     "name": "stdout",
     "output_type": "stream",
     "text": [
      "C:\\Users\\Nghia\\PycharmProjects\\ECML\\Refactor\n"
     ]
    }
   ],
   "source": [
    "cd ..\n"
   ]
  },
  {
   "cell_type": "code",
   "execution_count": 2,
   "metadata": {},
   "outputs": [
    {
     "name": "stderr",
     "output_type": "stream",
     "text": [
      "c:\\users\\nghia\\anaconda2\\envs\\tf36\\lib\\site-packages\\h5py\\__init__.py:36: FutureWarning: Conversion of the second argument of issubdtype from `float` to `np.floating` is deprecated. In future, it will be treated as `np.float64 == np.dtype(float).type`.\n",
      "  from ._conv import register_converters as _register_converters\n",
      "Using TensorFlow backend.\n"
     ]
    },
    {
     "name": "stdout",
     "output_type": "stream",
     "text": [
      "Extracting /tmp/data/train-images-idx3-ubyte.gz\n",
      "Extracting /tmp/data/train-labels-idx1-ubyte.gz\n",
      "Extracting /tmp/data/t10k-images-idx3-ubyte.gz\n",
      "Extracting /tmp/data/t10k-labels-idx1-ubyte.gz\n"
     ]
    }
   ],
   "source": [
    "from pprint import pprint\n",
    "\n",
    "import numpy as np\n",
    "import tensorflow as tf\n",
    "import time\n",
    "from collections import Counter\n",
    "\n",
    "from load_datasets import usps\n",
    "from metrics import metrics\n",
    "from models.AE1SVM import AEOneClassSVM"
   ]
  },
  {
   "cell_type": "code",
   "execution_count": 3,
   "metadata": {},
   "outputs": [
    {
     "name": "stdout",
     "output_type": "stream",
     "text": [
      "Anomalies ratio: 5.0 %\n"
     ]
    }
   ],
   "source": [
    "tf.set_random_seed(2018)\n",
    "\n",
    "x_train, y_train, x_test, y_test = usps(random_state=3, anomaly_num=7)\n",
    "\n",
    "counter = Counter(y_train)\n",
    "print('Anomalies ratio:', 100*counter[-1]/(counter[1]+counter[-1]), '%')"
   ]
  },
  {
   "cell_type": "code",
   "execution_count": 4,
   "metadata": {},
   "outputs": [],
   "source": [
    "autoencoder_layers = [256, 128]\n",
    "batch_size = 16\n",
    "\n",
    "data_input = tf.placeholder(tf.float32, shape=[None, 256])"
   ]
  },
  {
   "cell_type": "code",
   "execution_count": 5,
   "metadata": {},
   "outputs": [],
   "source": [
    "ae1svm = AEOneClassSVM(data_input, batch_size, 'test', autoencoder_layers[:1], 0.25, 1e3, 3.0, 500,\n",
    "                       autoencoder_activation='sigmoid', full_op=tf.train.AdamOptimizer(1e-2),\n",
    "                       svm_op=tf.train.AdamOptimizer(1e-2))"
   ]
  },
  {
   "cell_type": "code",
   "execution_count": 6,
   "metadata": {},
   "outputs": [],
   "source": [
    "import matplotlib\n",
    "import matplotlib.pyplot as plt\n",
    "\n",
    "normal = x_test[np.where(y_test == 1)]\n",
    "anomalies = x_test[np.where(y_test == -1)]"
   ]
  },
  {
   "cell_type": "code",
   "execution_count": 7,
   "metadata": {
    "scrolled": false
   },
   "outputs": [
    {
     "name": "stdout",
     "output_type": "stream",
     "text": [
      "Combined train\n",
      "SVM train\n",
      "...............Train time: 0.9014050960540771\n",
      "Test time: 0.018549442291259766\n",
      "{'AUPRC': 0.625,\n",
      " 'AUROC': 0.9842105263157895,\n",
      " 'Confusion matrix': array([[ 25,   0],\n",
      "       [ 15, 460]], dtype=int64),\n",
      " 'F1': 0.7692307692307693,\n",
      " 'Precision': 0.625,\n",
      " 'Recall': 1.0}\n"
     ]
    },
    {
     "data": {
      "image/png": "[encoded data removed]",
      "text/plain": [
       "<matplotlib.figure.Figure at 0x20fb0902550>"
      ]
     },
     "metadata": {},
     "output_type": "display_data"
    }
   ],
   "source": [
    "with tf.Session() as sess:\n",
    "    sess.run(tf.global_variables_initializer())\n",
    "    \n",
    "    # Autoencoder-OneclassSVM\n",
    "    t0 = time.time()\n",
    "    ae1svm.fit(sess, x_train, epochs_1=0, epochs_2=15)\n",
    "    print('Train time:', time.time() - t0)\n",
    "\n",
    "    t0 = time.time()\n",
    "    out_y = ae1svm.predict(sess, x_test)\n",
    "    print('Test time:', time.time() - t0)\n",
    "    pprint(metrics(y_test, out_y))\n",
    "    \n",
    "    gs = matplotlib.gridspec.GridSpec(4, 8)\n",
    "    gs.update(wspace=0, hspace=0)\n",
    "    for n in range(8):\n",
    "        a = anomalies[n]\n",
    "        g = sess.run(ae1svm.gradient, {data_input: [anomalies[n]]})\n",
    "        g = np.reshape(g, (256, len(g)))\n",
    "\n",
    "        splt = plt.subplot(gs[n])\n",
    "        splt.imshow(np.reshape(anomalies[n], (16, 16)), cmap='gray')\n",
    "        splt.set_xticks([])\n",
    "        splt.set_yticks([])\n",
    "        \n",
    "        splt = plt.subplot(gs[n+8])\n",
    "        splt.imshow(np.maximum(0, np.reshape(g, (16, 16))), cmap='Blues')\n",
    "        splt.set_xticks([])\n",
    "        splt.set_yticks([])\n",
    "\n",
    "        splt = plt.subplot(gs[n+16])\n",
    "        splt.imshow(np.maximum(0, -np.reshape(g, (16, 16))), cmap='Greens')\n",
    "        splt.set_xticks([])\n",
    "        splt.set_yticks([])\n",
    "        \n",
    "        splt = plt.subplot(gs[n+24])\n",
    "        splt.imshow(np.reshape(g, (16, 16)), cmap='hot')\n",
    "        splt.set_xticks([])\n",
    "        splt.set_yticks([])  \n",
    "\n",
    "plt.savefig('usps_gradient.eps', bbox_inches='tight')"
   ]
  },
  {
   "cell_type": "code",
   "execution_count": null,
   "metadata": {},
   "outputs": [],
   "source": []
  },
  {
   "cell_type": "code",
   "execution_count": null,
   "metadata": {},
   "outputs": [],
   "source": []
  }
 ],
 "metadata": {
  "kernelspec": {
   "display_name": "Python 3",
   "language": "python",
   "name": "python3"
  },
  "language_info": {
   "codemirror_mode": {
    "name": "ipython",
    "version": 3
   },
   "file_extension": ".py",
   "mimetype": "text/x-python",
   "name": "python",
   "nbconvert_exporter": "python",
   "pygments_lexer": "ipython3",
   "version": "3.6.2"
  }
 },
 "nbformat": 4,
 "nbformat_minor": 2
}
