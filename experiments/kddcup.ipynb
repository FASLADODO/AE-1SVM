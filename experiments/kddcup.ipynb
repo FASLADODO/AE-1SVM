{
 "cells": [
  {
   "cell_type": "code",
   "execution_count": 1,
   "metadata": {},
   "outputs": [
    {
     "name": "stdout",
     "output_type": "stream",
     "text": [
      "C:\\Users\\Nghia\\PycharmProjects\\ECML\\Refactor\n"
     ]
    }
   ],
   "source": [
    "cd .."
   ]
  },
  {
   "cell_type": "code",
   "execution_count": 2,
   "metadata": {},
   "outputs": [
    {
     "name": "stderr",
     "output_type": "stream",
     "text": [
      "c:\\users\\nghia\\anaconda2\\envs\\tf36\\lib\\site-packages\\h5py\\__init__.py:36: FutureWarning: Conversion of the second argument of issubdtype from `float` to `np.floating` is deprecated. In future, it will be treated as `np.float64 == np.dtype(float).type`.\n",
      "  from ._conv import register_converters as _register_converters\n",
      "Using TensorFlow backend.\n"
     ]
    },
    {
     "name": "stdout",
     "output_type": "stream",
     "text": [
      "Extracting /tmp/data/train-images-idx3-ubyte.gz\n",
      "Extracting /tmp/data/train-labels-idx1-ubyte.gz\n",
      "Extracting /tmp/data/t10k-images-idx3-ubyte.gz\n",
      "Extracting /tmp/data/t10k-labels-idx1-ubyte.gz\n"
     ]
    }
   ],
   "source": [
    "from pprint import pprint\n",
    "\n",
    "import numpy as np\n",
    "import tensorflow as tf\n",
    "import time\n",
    "from collections import Counter\n",
    "\n",
    "from sklearn.svm import OneClassSVM\n",
    "from sklearn.ensemble import IsolationForest\n",
    "from sklearn.neighbors import LocalOutlierFactor\n",
    "\n",
    "from load_datasets import kddcup\n",
    "from metrics import metrics\n",
    "from models.AE1SVM import AEOneClassSVM\n",
    "from models.DEC import DEC\n",
    "from models.RDA import RobustL21Autoencoder"
   ]
  },
  {
   "cell_type": "code",
   "execution_count": 3,
   "metadata": {},
   "outputs": [
    {
     "name": "stdout",
     "output_type": "stream",
     "text": [
      "Anomalies ratio: 4.998242118832767 %\n"
     ]
    }
   ],
   "source": [
    "tf.set_random_seed(2018)\n",
    "\n",
    "x_train, y_train, x_test, y_test = kddcup(random_state=3, percent10=True)\n",
    "\n",
    "counter = Counter(y_train)\n",
    "print('Anomalies ratio:', 100*counter[-1]/(counter[1]+counter[-1]), '%')"
   ]
  },
  {
   "cell_type": "code",
   "execution_count": 4,
   "metadata": {},
   "outputs": [],
   "source": [
    "autoencoder_layers = [118, 80, 40, 20]\n",
    "batch_size = 128"
   ]
  },
  {
   "cell_type": "code",
   "execution_count": 5,
   "metadata": {},
   "outputs": [],
   "source": [
    "data_input = tf.placeholder(tf.float32, shape=[None, 118], name='data_input')\n",
    "ae1svm = AEOneClassSVM(data_input, batch_size, 'test', autoencoder_layers[1:], 0.3, 1e4, 3.0, 400,\n",
    "                       autoencoder_activation='sigmoid', seed=3,\n",
    "                       full_op=tf.train.AdamOptimizer(1e-3),\n",
    "                       svm_op=tf.train.AdamOptimizer(1e-4))"
   ]
  },
  {
   "cell_type": "code",
   "execution_count": 6,
   "metadata": {},
   "outputs": [
    {
     "name": "stdout",
     "output_type": "stream",
     "text": [
      "Combined train\n",
      "..........SVM train\n",
      "Train time: 38.57740807533264\n",
      "Test time: 1.0728542804718018\n",
      "{'AUPRC': 0.6432318122293834,\n",
      " 'AUROC': 0.9736633788921956,\n",
      " 'Confusion matrix': array([[ 2493,    67],\n",
      "       [ 1289, 47350]], dtype=int64),\n",
      " 'F1': 0.7861873226111638,\n",
      " 'Precision': 0.6591750396615548,\n",
      " 'Recall': 0.973828125}\n"
     ]
    }
   ],
   "source": [
    "with tf.Session() as sess:\n",
    "    sess.run(tf.global_variables_initializer())\n",
    "\n",
    "    # Autoencoder-OneclassSVM\n",
    "    t0 = time.time()\n",
    "    ae1svm.fit(sess, x_train, epochs_1=10, epochs_2=0)\n",
    "    print('Train time:', time.time() - t0)\n",
    "\n",
    "    t0 = time.time()\n",
    "    out_y = ae1svm.predict(sess, x_test)\n",
    "    print('Test time:', time.time() - t0)\n",
    "\n",
    "    pprint(metrics(y_test, out_y))"
   ]
  },
  {
   "cell_type": "code",
   "execution_count": 7,
   "metadata": {},
   "outputs": [
    {
     "name": "stdout",
     "output_type": "stream",
     "text": [
      "OCSVM-RBF\n",
      "[LibSVM]Train time: 150.31826615333557\n",
      "Test time: 51.525691747665405\n",
      "{'AUPRC': 0.3400387878100758,\n",
      " 'AUROC': 0.8881571894788647,\n",
      " 'Confusion matrix': array([[ 2163,   397],\n",
      "       [ 3337, 45302]], dtype=int64),\n",
      " 'F1': 0.5367245657568239,\n",
      " 'Precision': 0.3932727272727273,\n",
      " 'Recall': 0.844921875}\n"
     ]
    }
   ],
   "source": [
    "# Train conventional RBF-OCSVM on raw input\n",
    "print('OCSVM-RBF')\n",
    "libsvm = OneClassSVM(nu=0.1, verbose=True, shrinking=False)\n",
    "t0 = time.time()\n",
    "libsvm.fit(x_train)\n",
    "print('Train time:', time.time() - t0)\n",
    "\n",
    "t0 = time.time()\n",
    "out_y = libsvm.predict(x_test)\n",
    "print('Test time:', time.time() - t0)\n",
    "pprint(metrics(y_test, out_y))"
   ]
  },
  {
   "cell_type": "code",
   "execution_count": 9,
   "metadata": {},
   "outputs": [
    {
     "name": "stdout",
     "output_type": "stream",
     "text": [
      "IsolationForest\n"
     ]
    },
    {
     "name": "stderr",
     "output_type": "stream",
     "text": [
      "[Parallel(n_jobs=1)]: Done   1 out of   1 | elapsed:   14.6s finished\n"
     ]
    },
    {
     "name": "stdout",
     "output_type": "stream",
     "text": [
      "Train time: 22.20285129547119\n",
      "Test time: 7.216731071472168\n",
      "{'AUPRC': 0.3889741096174527,\n",
      " 'AUROC': 0.953812908462088,\n",
      " 'Confusion matrix': array([[ 2529,    31],\n",
      "       [ 3904, 44735]], dtype=int64),\n",
      " 'F1': 0.5624374513510508,\n",
      " 'Precision': 0.39312917767759986,\n",
      " 'Recall': 0.987890625}\n"
     ]
    }
   ],
   "source": [
    "# Train Isolation Forest\n",
    "print('IsolationForest')\n",
    "iforest = IsolationForest(contamination=0.12, verbose=1)\n",
    "t0 = time.time()\n",
    "iforest.fit(x_train)\n",
    "print('Train time:', time.time() - t0)\n",
    "\n",
    "t0 = time.time()\n",
    "out_y = iforest.predict(x_test)\n",
    "print('Test time:', time.time() - t0)\n",
    "pprint(metrics(y_test, out_y))"
   ]
  },
  {
   "cell_type": "code",
   "execution_count": 10,
   "metadata": {},
   "outputs": [
    {
     "name": "stdout",
     "output_type": "stream",
     "text": [
      "Autoencoder train\n",
      "....................AE time: 34.415762424468994\n"
     ]
    }
   ],
   "source": [
    "ae_only = AEOneClassSVM(data_input, batch_size, 'test_ae', autoencoder_layers[1:], 0.3, 1e4, 3.0, 400,\n",
    "                        autoencoder_activation='sigmoid', ae_op=tf.train.AdamOptimizer(1e-3))\n",
    "\n",
    "with tf.Session() as sess:\n",
    "    sess.run(tf.global_variables_initializer())\n",
    "    # Train autoencoder for conventional methods\n",
    "    t0 = time.time()\n",
    "    ae_only.fit_ae(sess, x_train, epochs=20)\n",
    "    print('AE time:', time.time() - t0)\n",
    "\n",
    "    x_train_encoded = ae_only.encode(sess, x_train)\n",
    "    x_test_encoded = ae_only.encode(sess, x_test)\n",
    "\n",
    "    x_train_rff = ae_only.encode_rff(sess, x_train)\n",
    "    x_test_rff = ae_only.encode_rff(sess, x_test)"
   ]
  },
  {
   "cell_type": "code",
   "execution_count": 11,
   "metadata": {},
   "outputs": [
    {
     "name": "stdout",
     "output_type": "stream",
     "text": [
      "OCSVM-RBF\n",
      "[LibSVM]Train time: 69.54750943183899\n",
      "Test time: 14.63408374786377\n",
      "{'AUPRC': 0.3753516777767069,\n",
      " 'AUROC': 0.9510990449086638,\n",
      " 'Confusion matrix': array([[ 2527,    33],\n",
      "       [ 4130, 44509]], dtype=int64),\n",
      " 'F1': 0.5483345991103397,\n",
      " 'Precision': 0.37960042060988436,\n",
      " 'Recall': 0.987109375}\n"
     ]
    }
   ],
   "source": [
    "# Train conventional OCSVM on bottleneck layer\n",
    "print('OCSVM-RBF')\n",
    "libsvm = OneClassSVM(nu=0.13, verbose=True, shrinking=True)\n",
    "t0 = time.time()\n",
    "libsvm.fit(x_train_encoded)\n",
    "print('Train time:', time.time() - t0)\n",
    "\n",
    "t0 = time.time()\n",
    "out_y = libsvm.predict(x_test_encoded)\n",
    "print('Test time:', time.time() - t0)\n",
    "pprint(metrics(y_test, out_y))"
   ]
  },
  {
   "cell_type": "code",
   "execution_count": 13,
   "metadata": {},
   "outputs": [
    {
     "name": "stdout",
     "output_type": "stream",
     "text": [
      "OCSVM-Linear on RFF\n",
      "[LibSVM]Train time: 1028.5832569599152\n",
      "Test time: 352.8964011669159\n",
      "{'AUPRC': 0.35879784026138095,\n",
      " 'AUROC': 0.9399662123308969,\n",
      " 'Confusion matrix': array([[ 2475,    85],\n",
      "       [ 4225, 44414]], dtype=int64),\n",
      " 'F1': 0.5345572354211663,\n",
      " 'Precision': 0.3694029850746269,\n",
      " 'Recall': 0.966796875}\n"
     ]
    }
   ],
   "source": [
    "print('OCSVM-Linear on RFF')\n",
    "libsvm = OneClassSVM(nu=0.13, verbose=True, shrinking=False, kernel='linear', tol=0.1)\n",
    "t0 = time.time()\n",
    "libsvm.fit(x_train_rff)\n",
    "print('Train time:', time.time() - t0)\n",
    "\n",
    "t0 = time.time()\n",
    "out_y = libsvm.predict(x_test_rff)\n",
    "print('Test time:', time.time() - t0)\n",
    "pprint(metrics(y_test, out_y))"
   ]
  },
  {
   "cell_type": "code",
   "execution_count": 19,
   "metadata": {},
   "outputs": [
    {
     "name": "stdout",
     "output_type": "stream",
     "text": [
      "...Pretraining...\n",
      "Epoch 1/1\n",
      "51198/51198 [==============================] - 2s 39us/step - loss: 0.0118\n",
      "Pretraining time:  2.645000696182251\n",
      "Update interval 10\n",
      "Save interval 1999.921875\n",
      "Initializing cluster centers with k-means.\n",
      "delta_label  0.0001757881167233095 < tol  0.001\n",
      "Reached tolerance threshold. Stopping training.\n",
      "Train time: 10.97651219367981\n",
      "Test time: 1.6263179779052734\n",
      "{'AUPRC': 0.25429772572048365,\n",
      " 'AUROC': 0.91844006754482,\n",
      " 'Confusion matrix': array([[ 2527,    33],\n",
      "       [ 7307, 41332]], dtype=int64),\n",
      " 'F1': 0.4077779570760045,\n",
      " 'Precision': 0.25696562944885093,\n",
      " 'Recall': 0.987109375}\n"
     ]
    }
   ],
   "source": [
    "dec = DEC(dims=autoencoder_layers, n_clusters=5)\n",
    "t0 = time.time()\n",
    "dec.pretrain(x=x_train, epochs=1)\n",
    "dec.compile(loss='kld')\n",
    "y_pred = dec.fit(x_train, update_interval=10, batch_size=batch_size)\n",
    "print('Train time:', time.time() - t0)\n",
    "\n",
    "t0 = time.time()\n",
    "scores = dec.cluster_score(x_test)\n",
    "print('Test time:', time.time() - t0)\n",
    "threshold = np.partition(scores.flatten(), int(counter[-1]))[int(counter[-1])]\n",
    "out_y = np.array([1 if s > 1.5*threshold else -1 for s in scores])\n",
    "pprint(metrics(y_test, out_y))"
   ]
  },
  {
   "cell_type": "code",
   "execution_count": 42,
   "metadata": {},
   "outputs": [
    {
     "name": "stdout",
     "output_type": "stream",
     "text": [
      "X shape:  (511989, 113)\n",
      "L shape:  (511989, 113)\n",
      "S shape:  (511989, 113)\n",
      "Out iteration:  1\n",
      "    iteration :  5 , cost :  0.020521827\n",
      "    iteration :  10 , cost :  0.020522472\n",
      "    iteration :  15 , cost :  0.02052387\n",
      "    iteration :  20 , cost :  0.0031069887\n",
      "Out iteration:  2\n",
      "    iteration :  5 , cost :  0.00046778625\n",
      "    iteration :  10 , cost :  0.0003619341\n",
      "    iteration :  15 , cost :  0.0003257283\n",
      "    iteration :  20 , cost :  0.00029764223\n",
      "Out iteration:  3\n",
      "    iteration :  5 , cost :  0.00035094327\n",
      "    iteration :  10 , cost :  0.00032804316\n",
      "    iteration :  15 , cost :  0.00030382848\n",
      "    iteration :  20 , cost :  0.00027941816\n",
      "Out iteration:  4\n",
      "    iteration :  5 , cost :  0.00025388974\n",
      "    iteration :  10 , cost :  0.00022003918\n",
      "    iteration :  15 , cost :  0.00019523372\n",
      "    iteration :  20 , cost :  0.00017683947\n",
      "Out iteration:  5\n",
      "    iteration :  5 , cost :  0.00018501005\n",
      "    iteration :  10 , cost :  0.00016405268\n",
      "    iteration :  15 , cost :  0.00015141712\n",
      "    iteration :  20 , cost :  0.00014224702\n",
      "Train time: 981.7534408569336\n",
      "Test time: 15.392735719680786\n",
      "{'AUPRC': 0.04951726551258589,\n",
      " 'AUROC': 0.49416243282314287,\n",
      " 'Confusion matrix': array([[  1935,  23665],\n",
      "       [ 42443, 443948]], dtype=int64),\n",
      " 'F1': 0.05530309525850982,\n",
      " 'Precision': 0.04360268601559331,\n",
      " 'Recall': 0.0755859375}\n"
     ]
    }
   ],
   "source": [
    "with tf.Session() as sess:\n",
    "    sess.run(tf.global_variables_initializer())\n",
    "    # Robust Deep Autoencoder\n",
    "    rae = RobustL21Autoencoder(sess=sess, lambda_=0.4, layers_sizes=autoencoder_layers, learning_rate=1e-3)\n",
    "    t0 = time.time()\n",
    "    L, S = rae.fit(x_train, sess=sess, inner_iteration=20, iteration=5, verbose=True, batch_size=batch_size)\n",
    "    print('Train time:', time.time() - t0)\n",
    "\n",
    "    t0 = time.time()\n",
    "    L_test, S_test = rae.predict(x_test, sess=sess)\n",
    "    print('Test time:', time.time() - t0)\n",
    "\n",
    "    s_sum = np.linalg.norm(S, axis=1)\n",
    "    s_sum_test = np.linalg.norm(S_test, axis=1)\n",
    "    out_y = np.array([1 if s == 0 else -1 for s in s_sum_test])\n",
    "    pprint(metrics(y_test, out_y))"
   ]
  },
  {
   "cell_type": "code",
   "execution_count": 28,
   "metadata": {},
   "outputs": [],
   "source": [
    "x_train, y_train, x_test, y_test = kddcup(random_state=3, percent10=False)"
   ]
  },
  {
   "cell_type": "code",
   "execution_count": 29,
   "metadata": {},
   "outputs": [],
   "source": [
    "autoencoder_layers = [113, 80, 40, 20]\n",
    "batch_size = 1024\n",
    "data_input = tf.placeholder(tf.float32, shape=[None, 113], name='data_input_2')"
   ]
  },
  {
   "cell_type": "code",
   "execution_count": 37,
   "metadata": {},
   "outputs": [],
   "source": [
    "ae1svm = AEOneClassSVM(data_input, batch_size, 'testfull', autoencoder_layers[1:], 0.25, 1e5, 3.0, 400,\n",
    "                       autoencoder_activation='sigmoid', seed=1,\n",
    "                       full_op=tf.train.AdamOptimizer(5e-3),\n",
    "                       svm_op=tf.train.AdamOptimizer(1e-4))"
   ]
  },
  {
   "cell_type": "code",
   "execution_count": 39,
   "metadata": {},
   "outputs": [
    {
     "name": "stdout",
     "output_type": "stream",
     "text": [
      "Combined train\n",
      "...SVM train\n",
      "Train time: 100.39382600784302\n",
      "Test time: 5.885189771652222\n",
      "{'AUPRC': 0.4516191970448556,\n",
      " 'AUROC': 0.9610736531604718,\n",
      " 'Confusion matrix': array([[ 25172,    428],\n",
      "       [ 29735, 456656]], dtype=int64),\n",
      " 'F1': 0.6253369272237197,\n",
      " 'Precision': 0.45844792103010545,\n",
      " 'Recall': 0.98328125}\n"
     ]
    }
   ],
   "source": [
    "with tf.Session() as sess:\n",
    "    sess.run(tf.global_variables_initializer())\n",
    "\n",
    "    # Autoencoder-OneclassSVM\n",
    "    t0 = time.time()\n",
    "    ae1svm.fit(sess, x_train, epochs_1=3, epochs_2=0)\n",
    "    print('Train time:', time.time() - t0)\n",
    "\n",
    "    t0 = time.time()\n",
    "    out_y = ae1svm.predict(sess, x_test)\n",
    "    print('Test time:', time.time() - t0)\n",
    "\n",
    "    pprint(metrics(y_test, out_y))"
   ]
  },
  {
   "cell_type": "code",
   "execution_count": null,
   "metadata": {},
   "outputs": [],
   "source": []
  }
 ],
 "metadata": {
  "kernelspec": {
   "display_name": "Python 3",
   "language": "python",
   "name": "python3"
  },
  "language_info": {
   "codemirror_mode": {
    "name": "ipython",
    "version": 3
   },
   "file_extension": ".py",
   "mimetype": "text/x-python",
   "name": "python",
   "nbconvert_exporter": "python",
   "pygments_lexer": "ipython3",
   "version": "3.6.2"
  }
 },
 "nbformat": 4,
 "nbformat_minor": 2
}
