{
 "cells": [
  {
   "cell_type": "code",
   "execution_count": 1,
   "metadata": {},
   "outputs": [
    {
     "name": "stdout",
     "output_type": "stream",
     "text": [
      "C:\\Users\\Nghia\\PycharmProjects\\ECML\\Refactor\n"
     ]
    }
   ],
   "source": [
    "cd .."
   ]
  },
  {
   "cell_type": "code",
   "execution_count": 2,
   "metadata": {},
   "outputs": [
    {
     "name": "stderr",
     "output_type": "stream",
     "text": [
      "c:\\users\\nghia\\anaconda2\\envs\\tf36\\lib\\site-packages\\h5py\\__init__.py:36: FutureWarning: Conversion of the second argument of issubdtype from `float` to `np.floating` is deprecated. In future, it will be treated as `np.float64 == np.dtype(float).type`.\n",
      "  from ._conv import register_converters as _register_converters\n",
      "Using TensorFlow backend.\n"
     ]
    },
    {
     "name": "stdout",
     "output_type": "stream",
     "text": [
      "Extracting /tmp/data/train-images-idx3-ubyte.gz\n",
      "Extracting /tmp/data/train-labels-idx1-ubyte.gz\n",
      "Extracting /tmp/data/t10k-images-idx3-ubyte.gz\n",
      "Extracting /tmp/data/t10k-labels-idx1-ubyte.gz\n"
     ]
    }
   ],
   "source": [
    "from pprint import pprint\n",
    "\n",
    "import numpy as np\n",
    "import tensorflow as tf\n",
    "import time\n",
    "from collections import Counter\n",
    "\n",
    "from sklearn.svm import OneClassSVM\n",
    "from sklearn.ensemble import IsolationForest\n",
    "\n",
    "from load_datasets import shuttle\n",
    "from metrics import metrics\n",
    "from models.AE1SVM import AEOneClassSVM\n",
    "from models.DEC import DEC\n",
    "from models.RDA import RobustL21Autoencoder"
   ]
  },
  {
   "cell_type": "code",
   "execution_count": 3,
   "metadata": {},
   "outputs": [
    {
     "name": "stdout",
     "output_type": "stream",
     "text": [
      "Anomalies ratio: 7.16848383188892 %\n"
     ]
    }
   ],
   "source": [
    "tf.set_random_seed(2018)\n",
    "\n",
    "x_train, y_train, x_test, y_test = shuttle(random_state=1)\n",
    "\n",
    "counter = Counter(y_train)\n",
    "print('Anomalies ratio:', 100*counter[-1]/(counter[1]+counter[-1]), '%')"
   ]
  },
  {
   "cell_type": "code",
   "execution_count": 4,
   "metadata": {},
   "outputs": [],
   "source": [
    "autoencoder_layers = [9, 6, 2]\n",
    "batch_size = 16\n",
    "\n",
    "data_input = tf.placeholder(tf.float32, shape=[None, 9])\n",
    "\n",
    "ae1svm = AEOneClassSVM(data_input, batch_size, 'test', autoencoder_layers[1:], 0.4, 1e3, 3.0, 50,\n",
    "                       autoencoder_activation='sigmoid',\n",
    "                       full_op=tf.train.AdamOptimizer(1e-3),\n",
    "                       svm_op=tf.train.AdamOptimizer(1e-4))\n",
    "\n",
    "ae_only = AEOneClassSVM(data_input, batch_size, 'test', autoencoder_layers[1:], 0.3, 1e3, 3.0, 50,\n",
    "                        autoencoder_activation='sigmoid', ae_op=tf.train.AdamOptimizer(1e-3))"
   ]
  },
  {
   "cell_type": "code",
   "execution_count": 5,
   "metadata": {},
   "outputs": [
    {
     "name": "stdout",
     "output_type": "stream",
     "text": [
      "Combined train\n",
      ".......SVM train\n",
      "Train time: 18.87569284439087\n",
      "Test time: 0.21557235717773438\n",
      "{'AUPRC': 0.9498931742185709,\n",
      " 'AUROC': 0.9755952034726462,\n",
      " 'Confusion matrix': array([[ 2929,   149],\n",
      "       [   16, 39831]], dtype=int64),\n",
      " 'F1': 0.9726050141125686,\n",
      " 'Precision': 0.9945670628183362,\n",
      " 'Recall': 0.951591942820013}\n"
     ]
    }
   ],
   "source": [
    "with tf.Session() as sess:\n",
    "    sess.run(tf.global_variables_initializer())\n",
    "\n",
    "    # Autoencoder-OneclassSVM\n",
    "    t0 = time.time()\n",
    "    ae1svm.fit(sess, x_train, epochs_1=7, epochs_2=0)\n",
    "    print('Train time:', time.time() - t0)\n",
    "\n",
    "    t0 = time.time()\n",
    "    out_y = ae1svm.predict(sess, x_test)\n",
    "    print('Test time:', time.time() - t0)\n",
    "\n",
    "    pprint(metrics(y_test, out_y))\n"
   ]
  },
  {
   "cell_type": "code",
   "execution_count": 6,
   "metadata": {},
   "outputs": [
    {
     "name": "stdout",
     "output_type": "stream",
     "text": [
      "IsolationForest\n"
     ]
    },
    {
     "name": "stderr",
     "output_type": "stream",
     "text": [
      "[Parallel(n_jobs=1)]: Done   1 out of   1 | elapsed:    1.3s finished\n"
     ]
    },
    {
     "name": "stdout",
     "output_type": "stream",
     "text": [
      "Train time: 4.605691194534302\n",
      "Test time: 3.355423927307129\n",
      "{'AUPRC': 0.7697150055818226,\n",
      " 'AUROC': 0.982248764128379,\n",
      " 'Confusion matrix': array([[ 3035,    43],\n",
      "       [  858, 38989]], dtype=int64),\n",
      " 'F1': 0.8707502510400229,\n",
      " 'Precision': 0.7796044181864886,\n",
      " 'Recall': 0.9860298895386614}\n"
     ]
    }
   ],
   "source": [
    "# Train Isolation Forest\n",
    "print('IsolationForest')\n",
    "iforest = IsolationForest(contamination=0.09, verbose=1)\n",
    "t0 = time.time()\n",
    "iforest.fit(x_train)\n",
    "print('Train time:', time.time() - t0)\n",
    "\n",
    "t0 = time.time()\n",
    "out_y = iforest.predict(x_test)\n",
    "print('Test time:', time.time() - t0)\n",
    "pprint(metrics(y_test, out_y))"
   ]
  },
  {
   "cell_type": "code",
   "execution_count": 7,
   "metadata": {},
   "outputs": [
    {
     "name": "stdout",
     "output_type": "stream",
     "text": [
      "OCSVM-RBF\n",
      "[LibSVM]Train time: 40.37992811203003\n",
      "Test time: 10.66106390953064\n",
      "{'AUPRC': 0.43839963022686296,\n",
      " 'AUROC': 0.9338761332271377,\n",
      " 'Confusion matrix': array([[ 2943,   135],\n",
      "       [ 3522, 36325]], dtype=int64),\n",
      " 'F1': 0.6167871738447029,\n",
      " 'Precision': 0.45522041763341065,\n",
      " 'Recall': 0.956140350877193}\n"
     ]
    }
   ],
   "source": [
    "# Train conventional RBF-OCSVM on raw input\n",
    "print('OCSVM-RBF')\n",
    "libsvm = OneClassSVM(nu=0.15, verbose=True, shrinking=False)\n",
    "t0 = time.time()\n",
    "libsvm.fit(x_train)\n",
    "print('Train time:', time.time() - t0)\n",
    "\n",
    "t0 = time.time()\n",
    "out_y = libsvm.predict(x_test)\n",
    "print('Test time:', time.time() - t0)\n",
    "pprint(metrics(y_test, out_y))"
   ]
  },
  {
   "cell_type": "code",
   "execution_count": 8,
   "metadata": {},
   "outputs": [
    {
     "name": "stdout",
     "output_type": "stream",
     "text": [
      "Autoencoder train\n",
      "..........AE time: 16.776585340499878\n"
     ]
    }
   ],
   "source": [
    "with tf.Session() as sess:\n",
    "    sess.run(tf.global_variables_initializer())\n",
    "\n",
    "    # Train autoencoder for conventional methods\n",
    "    t0 = time.time()\n",
    "    ae_only.fit_ae(sess, x_train, epochs=10)\n",
    "    print('AE time:', time.time() - t0)\n",
    "\n",
    "    x_train_encoded = ae_only.encode(sess, x_train)\n",
    "    x_test_encoded = ae_only.encode(sess, x_test)\n",
    "\n",
    "    x_train_rff = ae_only.encode_rff(sess, x_train)\n",
    "    x_test_rff = ae_only.encode_rff(sess, x_test)"
   ]
  },
  {
   "cell_type": "code",
   "execution_count": 9,
   "metadata": {},
   "outputs": [
    {
     "name": "stdout",
     "output_type": "stream",
     "text": [
      "OCSVM-RBF\n",
      "[LibSVM]Train time: 16.79263401031494\n",
      "Test time: 3.839857339859009\n",
      "{'AUPRC': 0.4151140132100934,\n",
      " 'AUROC': 0.8501191725340982,\n",
      " 'Confusion matrix': array([[ 2315,   763],\n",
      "       [ 2067, 37780]], dtype=int64),\n",
      " 'F1': 0.6206434316353887,\n",
      " 'Precision': 0.528297581013236,\n",
      " 'Recall': 0.7521117608836907}\n"
     ]
    }
   ],
   "source": [
    "# Train conventional OCSVM on bottleneck layer\n",
    "print('OCSVM-RBF')\n",
    "libsvm = OneClassSVM(nu=0.1, verbose=True, shrinking=False)\n",
    "t0 = time.time()\n",
    "libsvm.fit(x_train_encoded)\n",
    "print('Train time:', time.time() - t0)\n",
    "\n",
    "t0 = time.time()\n",
    "out_y = libsvm.predict(x_test_encoded)\n",
    "print('Test time:', time.time() - t0)\n",
    "pprint(metrics(y_test, out_y))"
   ]
  },
  {
   "cell_type": "code",
   "execution_count": 10,
   "metadata": {},
   "outputs": [
    {
     "name": "stdout",
     "output_type": "stream",
     "text": [
      "OCSVM-Linear on RFF\n",
      "[LibSVM]Train time: 97.39589357376099\n",
      "Test time: 20.373255968093872\n",
      "{'AUPRC': 0.41352506614499684,\n",
      " 'AUROC': 0.8472843935069183,\n",
      " 'Confusion matrix': array([[ 2295,   783],\n",
      "       [ 2034, 37813]], dtype=int64),\n",
      " 'F1': 0.6196840826245443,\n",
      " 'Precision': 0.5301455301455301,\n",
      " 'Recall': 0.7456140350877193}\n"
     ]
    }
   ],
   "source": [
    "print('OCSVM-Linear on RFF')\n",
    "libsvm = OneClassSVM(nu=0.1, verbose=True, shrinking=False, kernel='linear')\n",
    "t0 = time.time()\n",
    "libsvm.fit(x_train_rff)\n",
    "print('Train time:', time.time() - t0)\n",
    "\n",
    "t0 = time.time()\n",
    "out_y = libsvm.predict(x_test_rff)\n",
    "print('Test time:', time.time() - t0)\n",
    "pprint(metrics(y_test, out_y))"
   ]
  },
  {
   "cell_type": "code",
   "execution_count": 15,
   "metadata": {},
   "outputs": [
    {
     "name": "stdout",
     "output_type": "stream",
     "text": [
      "...Pretraining...\n",
      "Epoch 1/1\n",
      "42924/42924 [==============================] - 1s 22us/step - loss: 0.1276\n",
      "Pretraining time:  1.295757532119751\n",
      "Update interval 10\n",
      "Save interval 13413.75\n",
      "Initializing cluster centers with k-means.\n",
      "delta_label  0.0006057217407510949 < tol  0.001\n",
      "Reached tolerance threshold. Stopping training.\n",
      "Train time: 6.307149887084961\n",
      "Test time: 0.9062542915344238\n",
      "{'AUPRC': 0.4933196996768739,\n",
      " 'AUROC': 0.8309585578091561,\n",
      " 'Confusion matrix': array([[ 2112,   966],\n",
      "       [  966, 38881]], dtype=int64),\n",
      " 'F1': 0.6861598440545809,\n",
      " 'Precision': 0.6861598440545809,\n",
      " 'Recall': 0.6861598440545809}\n"
     ]
    }
   ],
   "source": [
    "    dec = DEC(dims=autoencoder_layers, n_clusters=5)\n",
    "    t0 = time.time()\n",
    "    dec.pretrain(x=x_train, epochs=1)\n",
    "    dec.compile(loss='kld')\n",
    "    y_pred = dec.fit(x_train, update_interval=10, batch_size=batch_size)\n",
    "    print('Train time:', time.time() - t0)\n",
    "\n",
    "    t0 = time.time()\n",
    "    scores = dec.cluster_score(x_test)\n",
    "    print('Test time:', time.time() - t0)\n",
    "    threshold = np.partition(scores.flatten(), int(counter[-1]))[int(counter[-1])]\n",
    "    out_y = np.array([1 if s > threshold else -1 for s in scores])\n",
    "    pprint(metrics(y_test, out_y))\n"
   ]
  },
  {
   "cell_type": "code",
   "execution_count": 16,
   "metadata": {},
   "outputs": [
    {
     "name": "stdout",
     "output_type": "stream",
     "text": [
      "X shape:  (42924, 9)\n",
      "L shape:  (42924, 9)\n",
      "S shape:  (42924, 9)\n",
      "Out iteration:  1\n",
      "    iteration :  5 , cost :  9.673011e-05\n",
      "    iteration :  10 , cost :  6.266473e-05\n",
      "    iteration :  15 , cost :  5.0375333e-05\n",
      "    iteration :  20 , cost :  3.6201553e-05\n",
      "Out iteration:  2\n",
      "    iteration :  5 , cost :  1.4361158e-05\n",
      "    iteration :  10 , cost :  1.2063044e-05\n",
      "    iteration :  15 , cost :  1.1468858e-05\n",
      "    iteration :  20 , cost :  1.1822683e-05\n",
      "Out iteration:  3\n",
      "    iteration :  5 , cost :  1.0284e-05\n",
      "    iteration :  10 , cost :  9.371776e-06\n",
      "    iteration :  15 , cost :  8.129136e-06\n",
      "    iteration :  20 , cost :  7.867877e-06\n",
      "Train time: 62.65993547439575\n",
      "Test time: 0.19852781295776367\n",
      "{'AUPRC': 0.1582223599370553,\n",
      " 'AUROC': 0.7914046365424422,\n",
      " 'Confusion matrix': array([[ 3019,    59],\n",
      "       [15860, 23987]], dtype=int64),\n",
      " 'F1': 0.27499202987657695,\n",
      " 'Precision': 0.15991313099210763,\n",
      " 'Recall': 0.9808317089018843}\n"
     ]
    }
   ],
   "source": [
    "with tf.Session() as sess:\n",
    "    sess.run(tf.global_variables_initializer())\n",
    "    \n",
    "    # Robust Deep Autoencoder\n",
    "    rae = RobustL21Autoencoder(sess=sess, lambda_=0.01, layers_sizes=autoencoder_layers, learning_rate=1e-2)\n",
    "    t0 = time.time()\n",
    "    L, S = rae.fit(x_train, sess=sess, inner_iteration=20, iteration=3, verbose=True, batch_size=batch_size)\n",
    "    print('Train time:', time.time() - t0)\n",
    "\n",
    "    t0 = time.time()\n",
    "    L_test, S_test = rae.predict(x_test, sess=sess)\n",
    "    print('Test time:', time.time() - t0)\n",
    "\n",
    "    s_sum = np.linalg.norm(S, axis=1)\n",
    "    s_sum_test = np.linalg.norm(S_test, axis=1)\n",
    "    out_y = np.array([1 if s == 0 else -1 for s in s_sum_test])\n",
    "    pprint(metrics(y_test, out_y))"
   ]
  },
  {
   "cell_type": "code",
   "execution_count": null,
   "metadata": {},
   "outputs": [],
   "source": []
  },
  {
   "cell_type": "code",
   "execution_count": null,
   "metadata": {},
   "outputs": [],
   "source": []
  }
 ],
 "metadata": {
  "kernelspec": {
   "display_name": "Python 3",
   "language": "python",
   "name": "python3"
  },
  "language_info": {
   "codemirror_mode": {
    "name": "ipython",
    "version": 3
   },
   "file_extension": ".py",
   "mimetype": "text/x-python",
   "name": "python",
   "nbconvert_exporter": "python",
   "pygments_lexer": "ipython3",
   "version": "3.6.2"
  }
 },
 "nbformat": 4,
 "nbformat_minor": 2
}
