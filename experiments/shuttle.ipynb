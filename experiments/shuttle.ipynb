{
 "cells": [
  {
   "cell_type": "code",
   "execution_count": 1,
   "metadata": {},
   "outputs": [
    {
     "name": "stdout",
     "output_type": "stream",
     "text": [
      "C:\\Users\\Nghia\\PycharmProjects\\ECML\\Refactor\n"
     ]
    }
   ],
   "source": [
    "cd .."
   ]
  },
  {
   "cell_type": "code",
   "execution_count": 3,
   "metadata": {},
   "outputs": [
    {
     "name": "stderr",
     "output_type": "stream",
     "text": [
      "Using TensorFlow backend.\n"
     ]
    },
    {
     "name": "stdout",
     "output_type": "stream",
     "text": [
      "Extracting /tmp/data/train-images-idx3-ubyte.gz\n",
      "Extracting /tmp/data/train-labels-idx1-ubyte.gz\n",
      "Extracting /tmp/data/t10k-images-idx3-ubyte.gz\n",
      "Extracting /tmp/data/t10k-labels-idx1-ubyte.gz\n"
     ]
    }
   ],
   "source": [
    "from pprint import pprint\n",
    "\n",
    "import numpy as np\n",
    "import tensorflow as tf\n",
    "import time\n",
    "from collections import Counter\n",
    "\n",
    "from sklearn.svm import OneClassSVM\n",
    "from sklearn.ensemble import IsolationForest\n",
    "from sklearn.neighbors import LocalOutlierFactor\n",
    "\n",
    "from load_datasets import shuttle\n",
    "from metrics import metrics\n",
    "from models.AE1SVM import AEOneClassSVM\n",
    "from models.DEC import DEC\n",
    "from models.RDA import RobustL21Autoencoder"
   ]
  },
  {
   "cell_type": "code",
   "execution_count": 4,
   "metadata": {},
   "outputs": [
    {
     "name": "stdout",
     "output_type": "stream",
     "text": [
      "Anomalies ratio: 7.16848383188892 %\n"
     ]
    }
   ],
   "source": [
    "tf.set_random_seed(2018)\n",
    "\n",
    "x_train, y_train, x_test, y_test = shuttle(random_state=1)\n",
    "\n",
    "counter = Counter(y_train)\n",
    "print('Anomalies ratio:', 100*counter[-1]/(counter[1]+counter[-1]), '%')"
   ]
  },
  {
   "cell_type": "code",
   "execution_count": 46,
   "metadata": {
    "scrolled": true
   },
   "outputs": [
    {
     "name": "stdout",
     "output_type": "stream",
     "text": [
      "LOF\n",
      "Train time: 2.3071341514587402\n",
      "Test time: 1.9401590824127197\n",
      "{'AUPRC': 0.9322628066590897,\n",
      " 'AUROC': 0.5296563407992034,\n",
      " 'Confusion matrix': array([[31815,  8032],\n",
      "       [ 2275,   803]], dtype=int64),\n",
      " 'F1': 0.8605975357398866,\n",
      " 'P@10': 0.9282768262845159,\n",
      " 'Precision': 0.9332648870636551,\n",
      " 'Recall': 0.7984289908901548}\n"
     ]
    }
   ],
   "source": [
    "# Train Local outlier factor\n",
    "print('LOF')\n",
    "lof = LocalOutlierFactor(contamination=0.2)\n",
    "t0 = time.time()\n",
    "lof.fit(x_train)\n",
    "print('Train time:', time.time() - t0)\n",
    "\n",
    "t0 = time.time()\n",
    "out_y = lof._predict(x_test)\n",
    "print('Test time:', time.time() - t0)\n",
    "pprint(metrics(y_test, out_y))"
   ]
  },
  {
   "cell_type": "code",
   "execution_count": 64,
   "metadata": {},
   "outputs": [
    {
     "name": "stdout",
     "output_type": "stream",
     "text": [
      "IsolationForest\n"
     ]
    },
    {
     "name": "stderr",
     "output_type": "stream",
     "text": [
      "[Parallel(n_jobs=1)]: Done   1 out of   1 | elapsed:    0.6s finished\n"
     ]
    },
    {
     "name": "stdout",
     "output_type": "stream",
     "text": [
      "Train time: 2.269031286239624\n",
      "Test time: 1.5932364463806152\n",
      "{'AUPRC': 0.9972361976873878,\n",
      " 'AUROC': 0.9812839300382443,\n",
      " 'Confusion matrix': array([[38938,   909],\n",
      "       [   45,  3033]], dtype=int64),\n",
      " 'F1': 0.9878980083724471,\n",
      " 'P@10': 0.928486543166725,\n",
      " 'Precision': 0.99884565066824,\n",
      " 'Recall': 0.9771877431174242}\n"
     ]
    }
   ],
   "source": [
    "# Train Isolation Forest\n",
    "print('IsolationForest')\n",
    "iforest = IsolationForest(contamination=0.09, verbose=1)\n",
    "t0 = time.time()\n",
    "iforest.fit(x_train)\n",
    "print('Train time:', time.time() - t0)\n",
    "\n",
    "t0 = time.time()\n",
    "out_y = iforest.predict(x_test)\n",
    "print('Test time:', time.time() - t0)\n",
    "pprint(metrics(y_test, out_y))"
   ]
  },
  {
   "cell_type": "code",
   "execution_count": 51,
   "metadata": {},
   "outputs": [
    {
     "name": "stdout",
     "output_type": "stream",
     "text": [
      "OCSVM-RBF\n",
      "[LibSVM]Train time: 22.13305139541626\n",
      "Test time: 5.437685489654541\n",
      "{'AUPRC': 0.9902865885503093,\n",
      " 'AUROC': 0.9338761332271376,\n",
      " 'Confusion matrix': array([[36325,  3522],\n",
      "       [  135,  2943]], dtype=int64),\n",
      " 'F1': 0.952075170036825,\n",
      " 'P@10': 0.9284399394151229,\n",
      " 'Precision': 0.9962973121228744,\n",
      " 'Recall': 0.9116119155770823}\n"
     ]
    }
   ],
   "source": [
    "# Train conventional RBF-OCSVM on raw input\n",
    "print('OCSVM-RBF')\n",
    "libsvm = OneClassSVM(nu=0.15, verbose=True, shrinking=False)\n",
    "t0 = time.time()\n",
    "libsvm.fit(x_train)\n",
    "print('Train time:', time.time() - t0)\n",
    "\n",
    "t0 = time.time()\n",
    "out_y = libsvm.predict(x_test)\n",
    "print('Test time:', time.time() - t0)\n",
    "pprint(metrics(y_test, out_y))"
   ]
  },
  {
   "cell_type": "code",
   "execution_count": 54,
   "metadata": {},
   "outputs": [
    {
     "name": "stdout",
     "output_type": "stream",
     "text": [
      "OCSVM-Linear\n",
      "[LibSVM]Train time: 10.76364779472351\n",
      "Test time: 2.140688180923462\n",
      "{'AUPRC': 0.9180382811170125,\n",
      " 'AUROC': 0.4219378482670223,\n",
      " 'Confusion matrix': array([[33367,  6480],\n",
      "       [ 3058,    20]], dtype=int64),\n",
      " 'F1': 0.8749475561149571,\n",
      " 'P@10': 0.9282768262845159,\n",
      " 'Precision': 0.9160466712422787,\n",
      " 'Recall': 0.8373779707380732}\n"
     ]
    }
   ],
   "source": [
    "# Train conventional Linear-OCSVM\n",
    "print('OCSVM-Linear')\n",
    "libsvm = OneClassSVM(nu=0.15, verbose=True, shrinking=False, kernel='linear')\n",
    "t0 = time.time()\n",
    "libsvm.fit(x_train)\n",
    "print('Train time:', time.time() - t0)\n",
    "\n",
    "t0 = time.time()\n",
    "out_y = libsvm.predict(x_test)\n",
    "print('Test time:', time.time() - t0)\n",
    "pprint(metrics(y_test, out_y))"
   ]
  },
  {
   "cell_type": "code",
   "execution_count": 5,
   "metadata": {},
   "outputs": [],
   "source": [
    "autoencoder_layers = [9, 6, 2]\n",
    "batch_size = 16\n",
    "\n",
    "data_input = tf.placeholder(tf.float32, shape=[None, 9])\n",
    "\n",
    "ae1svm = AEOneClassSVM(data_input, batch_size, 'test', autoencoder_layers[1:], 0.4, 1e3, 3.0, 50,\n",
    "                       autoencoder_activation='sigmoid',\n",
    "                       full_op=tf.train.AdamOptimizer(1e-3),\n",
    "                       svm_op=tf.train.AdamOptimizer(1e-4))\n",
    "\n",
    "ae_only = AEOneClassSVM(data_input, batch_size, 'test', autoencoder_layers[1:], 0.4, 1e3, 3.0, 50,\n",
    "                        autoencoder_activation='sigmoid', ae_op=tf.train.AdamOptimizer(1e-3))"
   ]
  },
  {
   "cell_type": "code",
   "execution_count": 67,
   "metadata": {},
   "outputs": [
    {
     "name": "stdout",
     "output_type": "stream",
     "text": [
      "Combined train\n",
      "Epoch: 1 Loss: 4.994146600150404e-05 ( 5.30493751361962e-08 x 1000.0 + -3.1079064876565995e-06 ) AUROC: 0.6286051785388178\n",
      "Epoch: 2 Loss: 1.5221874285761835e-05 ( 2.6635494212133167e-08 x 1000.0 + -1.1413620859342879e-05 ) AUROC: 0.8540129433497166\n",
      "Epoch: 3 Loss: 1.0930831429454222e-05 ( 2.2400683471184025e-08 x 1000.0 + -1.1469851879002208e-05 ) AUROC: 0.9366622097152417\n",
      "Epoch: 4 Loss: 4.5092141302775475e-06 ( 1.598636033883947e-08 x 1000.0 + -1.1477146241107444e-05 ) AUROC: 0.9020896095912658\n",
      "Epoch: 5 Loss: -1.0969787461150449e-06 ( 1.0425656676223337e-08 x 1000.0 + -1.1522635677278281e-05 ) AUROC: 0.9134202502342015\n",
      "Epoch: 6 Loss: -4.078722485579712e-06 ( 7.424053286729316e-09 x 1000.0 + -1.1502775794006041e-05 ) AUROC: 0.9234617055998049\n",
      "Epoch: 7 Loss: -6.232402684826096e-06 ( 5.251068984040392e-09 x 1000.0 + -1.1483472048564212e-05 ) AUROC: 0.967162644596896\n",
      "Epoch: 8 Loss: -7.464647204219856e-06 ( 4.034737162271175e-09 x 1000.0 + -1.1499384811279792e-05 ) AUROC: 0.785861962794168\n",
      "Epoch: 9 Loss: -8.034435753586375e-06 ( 3.489394273727649e-09 x 1000.0 + -1.1523829880859187e-05 ) AUROC: 0.9306153316252671\n",
      "Epoch: 10 Loss: -8.329190886617207e-06 ( 3.1722534457932422e-09 x 1000.0 + -1.1501444118152448e-05 ) AUROC: 0.961088182936717\n",
      "SVM train\n",
      "Epoch: 1 Loss: -8.356563143578638e-06 ( 3.1722534457932422e-09 x 1000.0 + -1.152881637511388e-05 ) AUROC: 0.9667749127412678\n",
      "Train time: 14.719134092330933\n",
      "Test time: 0.09826087951660156\n",
      "{'AUPRC': 0.9961213094833911,\n",
      " 'AUROC': 0.9747829877481498,\n",
      " 'Confusion matrix': array([[39831,    16],\n",
      "       [  154,  2924]], dtype=int64),\n",
      " 'F1': 0.997870528109029,\n",
      " 'P@10': 0.9285098450425259,\n",
      " 'Precision': 0.9961485557083907,\n",
      " 'Recall': 0.9995984641252792}\n"
     ]
    }
   ],
   "source": [
    "with tf.Session() as sess:\n",
    "    sess.run(tf.global_variables_initializer())\n",
    "\n",
    "    # Autoencoder-OneclassSVM\n",
    "    t0 = time.time()\n",
    "    ae1svm.fit(sess, x_train, x_train, y_train, epochs_1=10, epochs_2=1)\n",
    "    print('Train time:', time.time() - t0)\n",
    "\n",
    "    t0 = time.time()\n",
    "    out_y = ae1svm.predict(sess, x_test)\n",
    "    print('Test time:', time.time() - t0)\n",
    "\n",
    "    pprint(metrics(y_test, out_y))\n"
   ]
  },
  {
   "cell_type": "code",
   "execution_count": 10,
   "metadata": {},
   "outputs": [
    {
     "name": "stdout",
     "output_type": "stream",
     "text": [
      "Autoencoder train\n",
      "Epoch: 1 Loss: 8.525534683715074e-08\n",
      "Epoch: 2 Loss: 3.2790212587109485e-08\n",
      "Epoch: 3 Loss: 2.5360469258790546e-08\n",
      "Epoch: 4 Loss: 2.0682815707613876e-08\n",
      "Epoch: 5 Loss: 1.546947918478207e-08\n",
      "Epoch: 6 Loss: 9.70241794617474e-09\n",
      "Epoch: 7 Loss: 7.421525584745747e-09\n",
      "Epoch: 8 Loss: 6.184349714055159e-09\n",
      "Epoch: 9 Loss: 5.529441996439791e-09\n",
      "Epoch: 10 Loss: 5.105569833690338e-09\n",
      "AE time: 10.449751615524292\n"
     ]
    }
   ],
   "source": [
    "with tf.Session() as sess:\n",
    "    sess.run(tf.global_variables_initializer())\n",
    "\n",
    "    # Train autoencoder for conventional methods\n",
    "    t0 = time.time()\n",
    "    ae_only.fit_ae(sess, x_train, epochs=10)\n",
    "    print('AE time:', time.time() - t0)\n",
    "\n",
    "    x_train_encoded = ae_only.encode(sess, x_train)\n",
    "    x_test_encoded = ae_only.encode(sess, x_test)\n",
    "\n",
    "    x_train_rff = ae_only.encode_rff(sess, x_train)\n",
    "    x_test_rff = ae_only.encode_rff(sess, x_test)"
   ]
  },
  {
   "cell_type": "code",
   "execution_count": 12,
   "metadata": {},
   "outputs": [
    {
     "name": "stdout",
     "output_type": "stream",
     "text": [
      "OCSVM-RBF\n",
      "[LibSVM]Train time: 12.123375415802002\n",
      "Test time: 2.5829243659973145\n",
      "{'AUPRC': 0.9775111586871601,\n",
      " 'AUROC': 0.8501191725340982,\n",
      " 'Confusion matrix': array([[37780,  2067],\n",
      "       [  763,  2315]], dtype=int64),\n",
      " 'F1': 0.9638984564357699,\n",
      " 'P@10': 0.9283467319119189,\n",
      " 'Precision': 0.9802039280803259,\n",
      " 'Recall': 0.9481265841845057}\n"
     ]
    }
   ],
   "source": [
    "# Train conventional OCSVM on bottleneck layer\n",
    "print('OCSVM-RBF')\n",
    "libsvm = OneClassSVM(nu=0.1, verbose=True, shrinking=False)\n",
    "t0 = time.time()\n",
    "libsvm.fit(x_train_encoded)\n",
    "print('Train time:', time.time() - t0)\n",
    "\n",
    "t0 = time.time()\n",
    "out_y = libsvm.predict(x_test_encoded)\n",
    "print('Test time:', time.time() - t0)\n",
    "pprint(metrics(y_test, out_y))"
   ]
  },
  {
   "cell_type": "code",
   "execution_count": 14,
   "metadata": {},
   "outputs": [
    {
     "name": "stdout",
     "output_type": "stream",
     "text": [
      "OCSVM-Linear\n",
      "[LibSVM]Train time: 9.664997339248657\n",
      "Test time: 1.8128173351287842\n",
      "{'AUPRC': 0.9279285291733779,\n",
      " 'AUROC': 0.4972569094003536,\n",
      " 'Confusion matrix': array([[31848,  7999],\n",
      "       [ 2477,   601]], dtype=int64),\n",
      " 'F1': 0.8587607183303672,\n",
      " 'P@10': 0.928323430036118,\n",
      " 'Precision': 0.927836853605244,\n",
      " 'Recall': 0.7992571586317665}\n"
     ]
    }
   ],
   "source": [
    "print('OCSVM-Linear')\n",
    "libsvm = OneClassSVM(nu=0.2, verbose=True, shrinking=True, kernel='linear')\n",
    "t0 = time.time()\n",
    "libsvm.fit(x_train_encoded)\n",
    "print('Train time:', time.time() - t0)\n",
    "\n",
    "t0 = time.time()\n",
    "out_y = libsvm.predict(x_test_encoded)\n",
    "print('Test time:', time.time() - t0)\n",
    "pprint(metrics(y_test, out_y))"
   ]
  },
  {
   "cell_type": "code",
   "execution_count": 15,
   "metadata": {},
   "outputs": [
    {
     "name": "stdout",
     "output_type": "stream",
     "text": [
      "OCSVM-Linear on RFF\n",
      "[LibSVM]Train time: 71.98852777481079\n",
      "Test time: 22.211646795272827\n",
      "{'AUPRC': 0.9770882081832025,\n",
      " 'AUROC': 0.8472843935069183,\n",
      " 'Confusion matrix': array([[37813,  2034],\n",
      "       [  783,  2295]], dtype=int64),\n",
      " 'F1': 0.9640885738689239,\n",
      " 'P@10': 0.9284399394151229,\n",
      " 'Precision': 0.9797129236190278,\n",
      " 'Recall': 0.9489547519261174}\n"
     ]
    }
   ],
   "source": [
    "print('OCSVM-Linear on RFF')\n",
    "libsvm = OneClassSVM(nu=0.1, verbose=True, shrinking=False, kernel='linear')\n",
    "t0 = time.time()\n",
    "libsvm.fit(x_train_rff)\n",
    "print('Train time:', time.time() - t0)\n",
    "\n",
    "t0 = time.time()\n",
    "out_y = libsvm.predict(x_test_rff)\n",
    "print('Test time:', time.time() - t0)\n",
    "pprint(metrics(y_test, out_y))"
   ]
  },
  {
   "cell_type": "code",
   "execution_count": 42,
   "metadata": {},
   "outputs": [
    {
     "name": "stdout",
     "output_type": "stream",
     "text": [
      "X shape:  (42924, 9)\n",
      "L shape:  (42924, 9)\n",
      "S shape:  (42924, 9)\n",
      "Out iteration:  1\n",
      "    iteration :  5 , cost :  8.4616746e-05\n",
      "    iteration :  10 , cost :  6.342871e-05\n",
      "    iteration :  15 , cost :  5.0481693e-05\n",
      "    iteration :  20 , cost :  3.9625564e-05\n",
      "    iteration :  25 , cost :  3.6279922e-05\n",
      "    iteration :  30 , cost :  3.4029385e-05\n",
      "    iteration :  35 , cost :  3.2872354e-05\n",
      "    iteration :  40 , cost :  3.231164e-05\n",
      "    iteration :  45 , cost :  3.1909298e-05\n",
      "    iteration :  50 , cost :  3.1581512e-05\n",
      "Out iteration:  2\n",
      "    iteration :  5 , cost :  8.184967e-06\n",
      "    iteration :  10 , cost :  8.026258e-06\n",
      "    iteration :  15 , cost :  7.904077e-06\n",
      "    iteration :  20 , cost :  7.717925e-06\n",
      "    iteration :  25 , cost :  7.5563435e-06\n",
      "    iteration :  30 , cost :  7.4317063e-06\n",
      "    iteration :  35 , cost :  7.3354745e-06\n",
      "    iteration :  40 , cost :  7.2591897e-06\n",
      "    iteration :  45 , cost :  7.196308e-06\n",
      "    iteration :  50 , cost :  7.142439e-06\n",
      "Out iteration:  3\n",
      "    iteration :  5 , cost :  7.828758e-06\n",
      "    iteration :  10 , cost :  7.688387e-06\n",
      "    iteration :  15 , cost :  7.5684984e-06\n",
      "    iteration :  20 , cost :  7.4642107e-06\n",
      "    iteration :  25 , cost :  7.3726037e-06\n",
      "    iteration :  30 , cost :  7.2905095e-06\n",
      "    iteration :  35 , cost :  7.2164294e-06\n",
      "    iteration :  40 , cost :  7.1488435e-06\n",
      "    iteration :  45 , cost :  7.0874917e-06\n",
      "    iteration :  50 , cost :  7.03152e-06\n",
      "Out iteration:  4\n",
      "    iteration :  5 , cost :  8.201204e-06\n",
      "    iteration :  10 , cost :  7.990331e-06\n",
      "    iteration :  15 , cost :  7.786105e-06\n",
      "    iteration :  20 , cost :  7.6034285e-06\n",
      "    iteration :  25 , cost :  7.463365e-06\n",
      "    iteration :  30 , cost :  7.371222e-06\n",
      "    iteration :  35 , cost :  7.3121123e-06\n",
      "    iteration :  40 , cost :  7.2688013e-06\n",
      "    iteration :  45 , cost :  7.233838e-06\n",
      "    iteration :  50 , cost :  7.203967e-06\n",
      "Out iteration:  5\n",
      "    iteration :  5 , cost :  8.322747e-06\n",
      "    iteration :  10 , cost :  8.183425e-06\n",
      "    iteration :  15 , cost :  8.083224e-06\n",
      "    iteration :  20 , cost :  8.0042555e-06\n",
      "    iteration :  25 , cost :  7.939271e-06\n",
      "    iteration :  30 , cost :  7.883342e-06\n",
      "    iteration :  35 , cost :  7.834145e-06\n",
      "    iteration :  40 , cost :  7.790298e-06\n",
      "    iteration :  45 , cost :  7.751234e-06\n",
      "    iteration :  50 , cost :  7.717024e-06\n",
      "Train time: 287.346462726593\n",
      "Test time: 0.16797590255737305\n",
      "{'AUPRC': 0.9756773558565794,\n",
      " 'AUROC': 0.8306003977233711,\n",
      " 'Confusion matrix': array([[26554, 13293],\n",
      "       [   16,  3062]], dtype=int64),\n",
      " 'F1': 0.7996145565141455,\n",
      " 'P@10': 0.9283001281603169,\n",
      " 'Precision': 0.9993978170869402,\n",
      " 'Recall': 0.6663989760835195}\n"
     ]
    }
   ],
   "source": [
    "with tf.Session() as sess:\n",
    "    sess.run(tf.global_variables_initializer())\n",
    "    \n",
    "    # Robust Deep Autoencoder\n",
    "    rae = RobustL21Autoencoder(sess=sess, lambda_=0.01, layers_sizes=autoencoder_layers, learning_rate=1e-2)\n",
    "    t0 = time.time()\n",
    "    L, S = rae.fit(x_train, sess=sess, inner_iteration=50, iteration=5, verbose=True, batch_size=batch_size)\n",
    "    print('Train time:', time.time() - t0)\n",
    "\n",
    "    t0 = time.time()\n",
    "    L_test, S_test = rae.predict(x_test, sess=sess)\n",
    "    print('Test time:', time.time() - t0)\n",
    "\n",
    "    s_sum = np.linalg.norm(S, axis=1)\n",
    "    s_sum_test = np.linalg.norm(S_test, axis=1)\n",
    "    out_y = [1 if s == 0 else -1 for s in s_sum_test]\n",
    "    pprint(metrics(y_test, out_y))"
   ]
  },
  {
   "cell_type": "code",
   "execution_count": 39,
   "metadata": {},
   "outputs": [
    {
     "name": "stdout",
     "output_type": "stream",
     "text": [
      "...Pretraining...\n",
      "Epoch 1/1\n",
      "42924/42924 [==============================] - 1s 22us/step - loss: 0.2163\n",
      "Pretraining time:  1.2793703079223633\n",
      "Update interval 10\n",
      "Save interval 13413.75\n",
      "Initializing cluster centers with k-means.\n",
      "delta_label  0.00034945485043332404 < tol  0.001\n",
      "Reached tolerance threshold. Stopping training.\n",
      "Train time: 6.26967978477478\n",
      "Test time: 0.9044318199157715\n",
      "{'AUPRC': 0.9856081054546645,\n",
      " 'AUROC': 0.9010780073938761,\n",
      " 'Confusion matrix': array([[33517,  6330],\n",
      "       [  120,  2958]], dtype=int64),\n",
      " 'F1': 0.9122257906483043,\n",
      " 'P@10': 0.9283467319119189,\n",
      " 'Precision': 0.9964324999256771,\n",
      " 'Recall': 0.8411423695635807}\n"
     ]
    }
   ],
   "source": [
    "    dec = DEC(dims=autoencoder_layers, n_clusters=5)\n",
    "    t0 = time.time()\n",
    "    dec.pretrain(x=x_train, epochs=1)\n",
    "    dec.compile(loss='kld')\n",
    "    y_pred = dec.fit(x_train, update_interval=10, batch_size=batch_size)\n",
    "    print('Train time:', time.time() - t0)\n",
    "\n",
    "    t0 = time.time()\n",
    "    scores = dec.cluster_score(x_test)\n",
    "    print('Test time:', time.time() - t0)\n",
    "    threshold = np.partition(scores.flatten(), int(counter[-1]))[int(counter[-1])]\n",
    "    out_y = [1 if s > 2*threshold else -1 for s in scores]\n",
    "    pprint(metrics(y_test, out_y))\n"
   ]
  },
  {
   "cell_type": "code",
   "execution_count": null,
   "metadata": {},
   "outputs": [],
   "source": []
  },
  {
   "cell_type": "code",
   "execution_count": null,
   "metadata": {},
   "outputs": [],
   "source": []
  }
 ],
 "metadata": {
  "kernelspec": {
   "display_name": "Python 3",
   "language": "python",
   "name": "python3"
  },
  "language_info": {
   "codemirror_mode": {
    "name": "ipython",
    "version": 3
   },
   "file_extension": ".py",
   "mimetype": "text/x-python",
   "name": "python",
   "nbconvert_exporter": "python",
   "pygments_lexer": "ipython3",
   "version": "3.6.2"
  }
 },
 "nbformat": 4,
 "nbformat_minor": 2
}
